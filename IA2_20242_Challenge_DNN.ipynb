{
  "nbformat": 4,
  "nbformat_minor": 0,
  "metadata": {
    "colab": {
      "provenance": []
    },
    "kernelspec": {
      "name": "python3",
      "display_name": "Python 3"
    },
    "language_info": {
      "name": "python"
    }
  },
  "cells": [
    {
      "cell_type": "markdown",
      "metadata": {
        "id": "gU827RsXMg1l"
      },
      "source": [
        "<img src=\"https://gitlab.com/bivl2ab/academico/cursos-uis/ai/ai-uis-student/raw/master/imgs/banner_IA.png\"  width=\"1000px\" height=\"250px\">\n",
        "\n",
        "\n",
        "# <center> **IA2: Challenge 1 - Redes Nueronales Densas (DNN)** </center>\n"
      ]
    },
    {
      "cell_type": "code",
      "source": [
        "#@title **Student:** Mount the Drive  (If you are in colab){ display-mode: \"form\" }\n",
        "import os\n",
        "from google.colab import drive\n",
        "drive.mount('/content/drive',force_remount=True)\n",
        "os.chdir('/content/drive/MyDrive/')\n",
        "\n",
        "print(os.getcwd())"
      ],
      "metadata": {
        "colab": {
          "base_uri": "https://localhost:8080/"
        },
        "id": "dHj8hxglC660",
        "outputId": "238883ab-1fb9-47e3-b4f1-17256b6bb09b"
      },
      "execution_count": 16,
      "outputs": [
        {
          "output_type": "stream",
          "name": "stdout",
          "text": [
            "Mounted at /content/drive\n",
            "/content/drive/MyDrive\n"
          ]
        }
      ]
    },
    {
      "cell_type": "code",
      "metadata": {
        "id": "VEceXubxPJEZ"
      },
      "source": [
        "#@title **imports**\n",
        "import numpy as np\n",
        "import pandas as pd\n",
        "import tensorflow as tf\n",
        "from sklearn.model_selection import train_test_split\n",
        "import seaborn as sns\n",
        "import matplotlib.pyplot as plt"
      ],
      "execution_count": 17,
      "outputs": []
    },
    {
      "cell_type": "markdown",
      "metadata": {
        "id": "YfrhyOdyZp66"
      },
      "source": [
        "# Dataset description\n",
        "\n",
        "Como líder del departamento de análisis de datos de un municipio en Colombia, usted debe predecir cómo es el comportamiento del **número** de hurtos del municipio en el que reside.  Para ello, utilice el [dataset](https://www.datos.gov.co/Seguridad-y-Defensa/Reporte-Hurto-por-Modalidades-Polic-a-Nacional/6sqw-8cg5/data) el cual puede descargar aquí: [Reporte de hurtos por modalidades](https://drive.google.com/uc?id=1V-axj71FKJHWIbZnYUuJz-FbOJLVTKDu) realizado por la policía nacional. El cual contiene variables tales como el departamento, municipio, el código DANE, los medios por los cuales se realizó el robo (tipos de armas), la fecha del hecho, el género, el grupo etario, el tipo de hurto, y la cantidad. Para los puntos propuestos, considere lo siguiente:\n",
        "\n",
        "-  Seleccione un Municipio que contenga almenos 1000 registros.\n",
        "\n",
        "- Los hurtos entre 2010 y 2021 deben ser usados para **entrenamiento (Train)**. los hurtos del 2022 deben ser usados como **Evaluación (test)**.\n",
        "\n"
      ]
    },
    {
      "cell_type": "markdown",
      "source": [
        "#**1. Punto**\n",
        "\n",
        "Construya un modelo DNN para predecir el número de hurtos para un dia particular. Teniendo como entrada las caracteristicas: tipos de armas, el género, el grupo etario, el tipo de hurto.  \n",
        "\n",
        "- La arquitectura debe tener mas de 3 capas.\n",
        "- Seleccione y justifique una función de perdida.\n",
        "- Seleccione y justifique las activaciones.\n",
        "- Evidencie los resultados en test y realice unas conclusiones al respecto."
      ],
      "metadata": {
        "id": "Z907bOJmEwXy"
      }
    },
    {
      "cell_type": "code",
      "source": [
        "import pandas as pd\n",
        "from sklearn.model_selection import train_test_split\n",
        "from sklearn.preprocessing import LabelEncoder, StandardScaler\n",
        "import numpy as np\n",
        "import tensorflow as tf\n",
        "\n",
        "# Cargar los datos\n",
        "data = pd.read_csv('/content/drive/MyDrive/AI-2/Taller_1/Reporte_Hurto_por_Modalidades_Polic_a_Nacional.csv')\n",
        "bogota_data = data[data['MUNICIPIO'] == 'BOGOTÁ D.C. (CT)']\n",
        "bogota_data['FECHA HECHO'] = pd.to_datetime(bogota_data['FECHA HECHO'], format='%d/%m/%Y', errors='coerce')\n",
        "\n",
        "# Dividir datos en entrenamiento y prueba\n",
        "train_data = bogota_data[(bogota_data['FECHA HECHO'].dt.year >= 2010) & (bogota_data['FECHA HECHO'].dt.year <= 2021)]\n",
        "test_data = bogota_data[bogota_data['FECHA HECHO'].dt.year == 2022]\n",
        "\n",
        "# Codificar variables categóricas\n",
        "features = ['ARMAS MEDIOS', 'GENERO', 'GRUPO ETARIO', 'TIPO DE HURTO']\n",
        "target = 'CANTIDAD'\n",
        "\n",
        "label_encoders = {}\n",
        "for feature in features:\n",
        "    le = LabelEncoder()\n",
        "    train_data[feature] = le.fit_transform(train_data[feature].astype(str))\n",
        "    test_data[feature] = le.transform(test_data[feature].astype(str))\n",
        "    label_encoders[feature] = le\n",
        "\n",
        "# Normalizar las características\n",
        "X_train = train_data[features]\n",
        "y_train = train_data[target]\n",
        "X_test = test_data[features]\n",
        "y_test = test_data[target]\n",
        "\n",
        "scaler = StandardScaler()\n",
        "X_train_scaled = scaler.fit_transform(X_train)\n",
        "X_test_scaled = scaler.transform(X_test)\n",
        "\n",
        "# Construir y entrenar el modelo\n",
        "model = tf.keras.Sequential([\n",
        "    tf.keras.layers.Dense(64, activation='relu', input_shape=(X_train_scaled.shape[1],)),\n",
        "    tf.keras.layers.Dense(128, activation='relu'),\n",
        "    tf.keras.layers.Dense(64, activation='relu'),\n",
        "    tf.keras.layers.Dense(1)  # Capa de salida\n",
        "])\n",
        "\n",
        "model.compile(optimizer='adam', loss='mean_squared_error', metrics=['mae'])\n",
        "history = model.fit(X_train_scaled, y_train, epochs=20, validation_split=0.2, batch_size=32)\n",
        "\n",
        "# Evaluación en el conjunto de prueba\n",
        "test_loss, test_mae = model.evaluate(X_test_scaled, y_test)\n",
        "print(f\"Test Loss: {test_loss}, Test MAE: {test_mae}\")\n"
      ],
      "metadata": {
        "colab": {
          "base_uri": "https://localhost:8080/"
        },
        "id": "aDBbx048czSj",
        "outputId": "c8fabc2e-3db6-482d-bfc5-452d46056131"
      },
      "execution_count": 141,
      "outputs": [
        {
          "output_type": "stream",
          "name": "stderr",
          "text": [
            "<ipython-input-141-940bd36bfb55>:8: DtypeWarning: Columns (2) have mixed types. Specify dtype option on import or set low_memory=False.\n",
            "  data = pd.read_csv('/content/drive/MyDrive/AI-2/Taller_1/Reporte_Hurto_por_Modalidades_Polic_a_Nacional.csv')\n",
            "<ipython-input-141-940bd36bfb55>:10: SettingWithCopyWarning: \n",
            "A value is trying to be set on a copy of a slice from a DataFrame.\n",
            "Try using .loc[row_indexer,col_indexer] = value instead\n",
            "\n",
            "See the caveats in the documentation: https://pandas.pydata.org/pandas-docs/stable/user_guide/indexing.html#returning-a-view-versus-a-copy\n",
            "  bogota_data['FECHA HECHO'] = pd.to_datetime(bogota_data['FECHA HECHO'], format='%d/%m/%Y', errors='coerce')\n",
            "<ipython-input-141-940bd36bfb55>:23: SettingWithCopyWarning: \n",
            "A value is trying to be set on a copy of a slice from a DataFrame.\n",
            "Try using .loc[row_indexer,col_indexer] = value instead\n",
            "\n",
            "See the caveats in the documentation: https://pandas.pydata.org/pandas-docs/stable/user_guide/indexing.html#returning-a-view-versus-a-copy\n",
            "  train_data[feature] = le.fit_transform(train_data[feature].astype(str))\n",
            "<ipython-input-141-940bd36bfb55>:24: SettingWithCopyWarning: \n",
            "A value is trying to be set on a copy of a slice from a DataFrame.\n",
            "Try using .loc[row_indexer,col_indexer] = value instead\n",
            "\n",
            "See the caveats in the documentation: https://pandas.pydata.org/pandas-docs/stable/user_guide/indexing.html#returning-a-view-versus-a-copy\n",
            "  test_data[feature] = le.transform(test_data[feature].astype(str))\n",
            "<ipython-input-141-940bd36bfb55>:23: SettingWithCopyWarning: \n",
            "A value is trying to be set on a copy of a slice from a DataFrame.\n",
            "Try using .loc[row_indexer,col_indexer] = value instead\n",
            "\n",
            "See the caveats in the documentation: https://pandas.pydata.org/pandas-docs/stable/user_guide/indexing.html#returning-a-view-versus-a-copy\n",
            "  train_data[feature] = le.fit_transform(train_data[feature].astype(str))\n",
            "<ipython-input-141-940bd36bfb55>:24: SettingWithCopyWarning: \n",
            "A value is trying to be set on a copy of a slice from a DataFrame.\n",
            "Try using .loc[row_indexer,col_indexer] = value instead\n",
            "\n",
            "See the caveats in the documentation: https://pandas.pydata.org/pandas-docs/stable/user_guide/indexing.html#returning-a-view-versus-a-copy\n",
            "  test_data[feature] = le.transform(test_data[feature].astype(str))\n",
            "<ipython-input-141-940bd36bfb55>:23: SettingWithCopyWarning: \n",
            "A value is trying to be set on a copy of a slice from a DataFrame.\n",
            "Try using .loc[row_indexer,col_indexer] = value instead\n",
            "\n",
            "See the caveats in the documentation: https://pandas.pydata.org/pandas-docs/stable/user_guide/indexing.html#returning-a-view-versus-a-copy\n",
            "  train_data[feature] = le.fit_transform(train_data[feature].astype(str))\n",
            "<ipython-input-141-940bd36bfb55>:24: SettingWithCopyWarning: \n",
            "A value is trying to be set on a copy of a slice from a DataFrame.\n",
            "Try using .loc[row_indexer,col_indexer] = value instead\n",
            "\n",
            "See the caveats in the documentation: https://pandas.pydata.org/pandas-docs/stable/user_guide/indexing.html#returning-a-view-versus-a-copy\n",
            "  test_data[feature] = le.transform(test_data[feature].astype(str))\n",
            "<ipython-input-141-940bd36bfb55>:23: SettingWithCopyWarning: \n",
            "A value is trying to be set on a copy of a slice from a DataFrame.\n",
            "Try using .loc[row_indexer,col_indexer] = value instead\n",
            "\n",
            "See the caveats in the documentation: https://pandas.pydata.org/pandas-docs/stable/user_guide/indexing.html#returning-a-view-versus-a-copy\n",
            "  train_data[feature] = le.fit_transform(train_data[feature].astype(str))\n",
            "<ipython-input-141-940bd36bfb55>:24: SettingWithCopyWarning: \n",
            "A value is trying to be set on a copy of a slice from a DataFrame.\n",
            "Try using .loc[row_indexer,col_indexer] = value instead\n",
            "\n",
            "See the caveats in the documentation: https://pandas.pydata.org/pandas-docs/stable/user_guide/indexing.html#returning-a-view-versus-a-copy\n",
            "  test_data[feature] = le.transform(test_data[feature].astype(str))\n",
            "/usr/local/lib/python3.10/dist-packages/keras/src/layers/core/dense.py:87: UserWarning: Do not pass an `input_shape`/`input_dim` argument to a layer. When using Sequential models, prefer using an `Input(shape)` object as the first layer in the model instead.\n",
            "  super().__init__(activity_regularizer=activity_regularizer, **kwargs)\n"
          ]
        },
        {
          "output_type": "stream",
          "name": "stdout",
          "text": [
            "Epoch 1/20\n",
            "\u001b[1m1377/1377\u001b[0m \u001b[32m━━━━━━━━━━━━━━━━━━━━\u001b[0m\u001b[37m\u001b[0m \u001b[1m5s\u001b[0m 2ms/step - loss: 32.1306 - mae: 2.7201 - val_loss: 1.7274 - val_mae: 0.5996\n",
            "Epoch 2/20\n",
            "\u001b[1m1377/1377\u001b[0m \u001b[32m━━━━━━━━━━━━━━━━━━━━\u001b[0m\u001b[37m\u001b[0m \u001b[1m3s\u001b[0m 2ms/step - loss: 23.8627 - mae: 2.3500 - val_loss: 1.7987 - val_mae: 0.5153\n",
            "Epoch 3/20\n",
            "\u001b[1m1377/1377\u001b[0m \u001b[32m━━━━━━━━━━━━━━━━━━━━\u001b[0m\u001b[37m\u001b[0m \u001b[1m4s\u001b[0m 3ms/step - loss: 22.6357 - mae: 2.2906 - val_loss: 2.0702 - val_mae: 0.5266\n",
            "Epoch 4/20\n",
            "\u001b[1m1377/1377\u001b[0m \u001b[32m━━━━━━━━━━━━━━━━━━━━\u001b[0m\u001b[37m\u001b[0m \u001b[1m4s\u001b[0m 2ms/step - loss: 23.5836 - mae: 2.3234 - val_loss: 1.9195 - val_mae: 0.5995\n",
            "Epoch 5/20\n",
            "\u001b[1m1377/1377\u001b[0m \u001b[32m━━━━━━━━━━━━━━━━━━━━\u001b[0m\u001b[37m\u001b[0m \u001b[1m3s\u001b[0m 2ms/step - loss: 23.5959 - mae: 2.2979 - val_loss: 1.9890 - val_mae: 0.5740\n",
            "Epoch 6/20\n",
            "\u001b[1m1377/1377\u001b[0m \u001b[32m━━━━━━━━━━━━━━━━━━━━\u001b[0m\u001b[37m\u001b[0m \u001b[1m6s\u001b[0m 2ms/step - loss: 22.4766 - mae: 2.2489 - val_loss: 1.8699 - val_mae: 0.4776\n",
            "Epoch 7/20\n",
            "\u001b[1m1377/1377\u001b[0m \u001b[32m━━━━━━━━━━━━━━━━━━━━\u001b[0m\u001b[37m\u001b[0m \u001b[1m5s\u001b[0m 2ms/step - loss: 23.4139 - mae: 2.2980 - val_loss: 1.8424 - val_mae: 0.4276\n",
            "Epoch 8/20\n",
            "\u001b[1m1377/1377\u001b[0m \u001b[32m━━━━━━━━━━━━━━━━━━━━\u001b[0m\u001b[37m\u001b[0m \u001b[1m5s\u001b[0m 2ms/step - loss: 24.2149 - mae: 2.3154 - val_loss: 1.8198 - val_mae: 0.4589\n",
            "Epoch 9/20\n",
            "\u001b[1m1377/1377\u001b[0m \u001b[32m━━━━━━━━━━━━━━━━━━━━\u001b[0m\u001b[37m\u001b[0m \u001b[1m7s\u001b[0m 3ms/step - loss: 22.4689 - mae: 2.2638 - val_loss: 1.8840 - val_mae: 0.5869\n",
            "Epoch 10/20\n",
            "\u001b[1m1377/1377\u001b[0m \u001b[32m━━━━━━━━━━━━━━━━━━━━\u001b[0m\u001b[37m\u001b[0m \u001b[1m3s\u001b[0m 2ms/step - loss: 23.2923 - mae: 2.2696 - val_loss: 1.9039 - val_mae: 0.4774\n",
            "Epoch 11/20\n",
            "\u001b[1m1377/1377\u001b[0m \u001b[32m━━━━━━━━━━━━━━━━━━━━\u001b[0m\u001b[37m\u001b[0m \u001b[1m3s\u001b[0m 2ms/step - loss: 23.3167 - mae: 2.2754 - val_loss: 1.8023 - val_mae: 0.5048\n",
            "Epoch 12/20\n",
            "\u001b[1m1377/1377\u001b[0m \u001b[32m━━━━━━━━━━━━━━━━━━━━\u001b[0m\u001b[37m\u001b[0m \u001b[1m5s\u001b[0m 2ms/step - loss: 23.7779 - mae: 2.3168 - val_loss: 1.8845 - val_mae: 0.5294\n",
            "Epoch 13/20\n",
            "\u001b[1m1377/1377\u001b[0m \u001b[32m━━━━━━━━━━━━━━━━━━━━\u001b[0m\u001b[37m\u001b[0m \u001b[1m5s\u001b[0m 2ms/step - loss: 23.3524 - mae: 2.3108 - val_loss: 1.8347 - val_mae: 0.4556\n",
            "Epoch 14/20\n",
            "\u001b[1m1377/1377\u001b[0m \u001b[32m━━━━━━━━━━━━━━━━━━━━\u001b[0m\u001b[37m\u001b[0m \u001b[1m5s\u001b[0m 2ms/step - loss: 21.8943 - mae: 2.2304 - val_loss: 1.8357 - val_mae: 0.4823\n",
            "Epoch 15/20\n",
            "\u001b[1m1377/1377\u001b[0m \u001b[32m━━━━━━━━━━━━━━━━━━━━\u001b[0m\u001b[37m\u001b[0m \u001b[1m3s\u001b[0m 2ms/step - loss: 22.8772 - mae: 2.2780 - val_loss: 1.9148 - val_mae: 0.5173\n",
            "Epoch 16/20\n",
            "\u001b[1m1377/1377\u001b[0m \u001b[32m━━━━━━━━━━━━━━━━━━━━\u001b[0m\u001b[37m\u001b[0m \u001b[1m4s\u001b[0m 3ms/step - loss: 23.3970 - mae: 2.2876 - val_loss: 1.8444 - val_mae: 0.4569\n",
            "Epoch 17/20\n",
            "\u001b[1m1377/1377\u001b[0m \u001b[32m━━━━━━━━━━━━━━━━━━━━\u001b[0m\u001b[37m\u001b[0m \u001b[1m3s\u001b[0m 2ms/step - loss: 23.1952 - mae: 2.2911 - val_loss: 1.7755 - val_mae: 0.4587\n",
            "Epoch 18/20\n",
            "\u001b[1m1377/1377\u001b[0m \u001b[32m━━━━━━━━━━━━━━━━━━━━\u001b[0m\u001b[37m\u001b[0m \u001b[1m5s\u001b[0m 2ms/step - loss: 23.6940 - mae: 2.3015 - val_loss: 1.7958 - val_mae: 0.4978\n",
            "Epoch 19/20\n",
            "\u001b[1m1377/1377\u001b[0m \u001b[32m━━━━━━━━━━━━━━━━━━━━\u001b[0m\u001b[37m\u001b[0m \u001b[1m7s\u001b[0m 3ms/step - loss: 22.4021 - mae: 2.2347 - val_loss: 1.9223 - val_mae: 0.4980\n",
            "Epoch 20/20\n",
            "\u001b[1m1377/1377\u001b[0m \u001b[32m━━━━━━━━━━━━━━━━━━━━\u001b[0m\u001b[37m\u001b[0m \u001b[1m4s\u001b[0m 2ms/step - loss: 22.8368 - mae: 2.2555 - val_loss: 1.7726 - val_mae: 0.4718\n",
            "\u001b[1m67/67\u001b[0m \u001b[32m━━━━━━━━━━━━━━━━━━━━\u001b[0m\u001b[37m\u001b[0m \u001b[1m0s\u001b[0m 1ms/step - loss: 6.6787 - mae: 1.2463\n",
            "Test Loss: 38.55251693725586, Test MAE: 2.9024312496185303\n"
          ]
        }
      ]
    },
    {
      "cell_type": "code",
      "source": [
        "model.summary()"
      ],
      "metadata": {
        "colab": {
          "base_uri": "https://localhost:8080/",
          "height": 273
        },
        "id": "wQLPyVYsczLX",
        "outputId": "b76792d3-cec9-4546-8ef3-87f252d183f4"
      },
      "execution_count": 157,
      "outputs": [
        {
          "output_type": "display_data",
          "data": {
            "text/plain": [
              "\u001b[1mModel: \"sequential_8\"\u001b[0m\n"
            ],
            "text/html": [
              "<pre style=\"white-space:pre;overflow-x:auto;line-height:normal;font-family:Menlo,'DejaVu Sans Mono',consolas,'Courier New',monospace\"><span style=\"font-weight: bold\">Model: \"sequential_8\"</span>\n",
              "</pre>\n"
            ]
          },
          "metadata": {}
        },
        {
          "output_type": "display_data",
          "data": {
            "text/plain": [
              "┏━━━━━━━━━━━━━━━━━━━━━━━━━━━━━━━━━━━━━━┳━━━━━━━━━━━━━━━━━━━━━━━━━━━━━┳━━━━━━━━━━━━━━━━━┓\n",
              "┃\u001b[1m \u001b[0m\u001b[1mLayer (type)                        \u001b[0m\u001b[1m \u001b[0m┃\u001b[1m \u001b[0m\u001b[1mOutput Shape               \u001b[0m\u001b[1m \u001b[0m┃\u001b[1m \u001b[0m\u001b[1m        Param #\u001b[0m\u001b[1m \u001b[0m┃\n",
              "┡━━━━━━━━━━━━━━━━━━━━━━━━━━━━━━━━━━━━━━╇━━━━━━━━━━━━━━━━━━━━━━━━━━━━━╇━━━━━━━━━━━━━━━━━┩\n",
              "│ dense_39 (\u001b[38;5;33mDense\u001b[0m)                     │ (\u001b[38;5;45mNone\u001b[0m, \u001b[38;5;34m64\u001b[0m)                  │             \u001b[38;5;34m320\u001b[0m │\n",
              "├──────────────────────────────────────┼─────────────────────────────┼─────────────────┤\n",
              "│ dense_40 (\u001b[38;5;33mDense\u001b[0m)                     │ (\u001b[38;5;45mNone\u001b[0m, \u001b[38;5;34m128\u001b[0m)                 │           \u001b[38;5;34m8,320\u001b[0m │\n",
              "├──────────────────────────────────────┼─────────────────────────────┼─────────────────┤\n",
              "│ dense_41 (\u001b[38;5;33mDense\u001b[0m)                     │ (\u001b[38;5;45mNone\u001b[0m, \u001b[38;5;34m64\u001b[0m)                  │           \u001b[38;5;34m8,256\u001b[0m │\n",
              "├──────────────────────────────────────┼─────────────────────────────┼─────────────────┤\n",
              "│ dense_42 (\u001b[38;5;33mDense\u001b[0m)                     │ (\u001b[38;5;45mNone\u001b[0m, \u001b[38;5;34m1\u001b[0m)                   │              \u001b[38;5;34m65\u001b[0m │\n",
              "└──────────────────────────────────────┴─────────────────────────────┴─────────────────┘\n"
            ],
            "text/html": [
              "<pre style=\"white-space:pre;overflow-x:auto;line-height:normal;font-family:Menlo,'DejaVu Sans Mono',consolas,'Courier New',monospace\">┏━━━━━━━━━━━━━━━━━━━━━━━━━━━━━━━━━━━━━━┳━━━━━━━━━━━━━━━━━━━━━━━━━━━━━┳━━━━━━━━━━━━━━━━━┓\n",
              "┃<span style=\"font-weight: bold\"> Layer (type)                         </span>┃<span style=\"font-weight: bold\"> Output Shape                </span>┃<span style=\"font-weight: bold\">         Param # </span>┃\n",
              "┡━━━━━━━━━━━━━━━━━━━━━━━━━━━━━━━━━━━━━━╇━━━━━━━━━━━━━━━━━━━━━━━━━━━━━╇━━━━━━━━━━━━━━━━━┩\n",
              "│ dense_39 (<span style=\"color: #0087ff; text-decoration-color: #0087ff\">Dense</span>)                     │ (<span style=\"color: #00d7ff; text-decoration-color: #00d7ff\">None</span>, <span style=\"color: #00af00; text-decoration-color: #00af00\">64</span>)                  │             <span style=\"color: #00af00; text-decoration-color: #00af00\">320</span> │\n",
              "├──────────────────────────────────────┼─────────────────────────────┼─────────────────┤\n",
              "│ dense_40 (<span style=\"color: #0087ff; text-decoration-color: #0087ff\">Dense</span>)                     │ (<span style=\"color: #00d7ff; text-decoration-color: #00d7ff\">None</span>, <span style=\"color: #00af00; text-decoration-color: #00af00\">128</span>)                 │           <span style=\"color: #00af00; text-decoration-color: #00af00\">8,320</span> │\n",
              "├──────────────────────────────────────┼─────────────────────────────┼─────────────────┤\n",
              "│ dense_41 (<span style=\"color: #0087ff; text-decoration-color: #0087ff\">Dense</span>)                     │ (<span style=\"color: #00d7ff; text-decoration-color: #00d7ff\">None</span>, <span style=\"color: #00af00; text-decoration-color: #00af00\">64</span>)                  │           <span style=\"color: #00af00; text-decoration-color: #00af00\">8,256</span> │\n",
              "├──────────────────────────────────────┼─────────────────────────────┼─────────────────┤\n",
              "│ dense_42 (<span style=\"color: #0087ff; text-decoration-color: #0087ff\">Dense</span>)                     │ (<span style=\"color: #00d7ff; text-decoration-color: #00d7ff\">None</span>, <span style=\"color: #00af00; text-decoration-color: #00af00\">1</span>)                   │              <span style=\"color: #00af00; text-decoration-color: #00af00\">65</span> │\n",
              "└──────────────────────────────────────┴─────────────────────────────┴─────────────────┘\n",
              "</pre>\n"
            ]
          },
          "metadata": {}
        },
        {
          "output_type": "display_data",
          "data": {
            "text/plain": [
              "\u001b[1m Total params: \u001b[0m\u001b[38;5;34m50,885\u001b[0m (198.77 KB)\n"
            ],
            "text/html": [
              "<pre style=\"white-space:pre;overflow-x:auto;line-height:normal;font-family:Menlo,'DejaVu Sans Mono',consolas,'Courier New',monospace\"><span style=\"font-weight: bold\"> Total params: </span><span style=\"color: #00af00; text-decoration-color: #00af00\">50,885</span> (198.77 KB)\n",
              "</pre>\n"
            ]
          },
          "metadata": {}
        },
        {
          "output_type": "display_data",
          "data": {
            "text/plain": [
              "\u001b[1m Trainable params: \u001b[0m\u001b[38;5;34m16,961\u001b[0m (66.25 KB)\n"
            ],
            "text/html": [
              "<pre style=\"white-space:pre;overflow-x:auto;line-height:normal;font-family:Menlo,'DejaVu Sans Mono',consolas,'Courier New',monospace\"><span style=\"font-weight: bold\"> Trainable params: </span><span style=\"color: #00af00; text-decoration-color: #00af00\">16,961</span> (66.25 KB)\n",
              "</pre>\n"
            ]
          },
          "metadata": {}
        },
        {
          "output_type": "display_data",
          "data": {
            "text/plain": [
              "\u001b[1m Non-trainable params: \u001b[0m\u001b[38;5;34m0\u001b[0m (0.00 B)\n"
            ],
            "text/html": [
              "<pre style=\"white-space:pre;overflow-x:auto;line-height:normal;font-family:Menlo,'DejaVu Sans Mono',consolas,'Courier New',monospace\"><span style=\"font-weight: bold\"> Non-trainable params: </span><span style=\"color: #00af00; text-decoration-color: #00af00\">0</span> (0.00 B)\n",
              "</pre>\n"
            ]
          },
          "metadata": {}
        },
        {
          "output_type": "display_data",
          "data": {
            "text/plain": [
              "\u001b[1m Optimizer params: \u001b[0m\u001b[38;5;34m33,924\u001b[0m (132.52 KB)\n"
            ],
            "text/html": [
              "<pre style=\"white-space:pre;overflow-x:auto;line-height:normal;font-family:Menlo,'DejaVu Sans Mono',consolas,'Courier New',monospace\"><span style=\"font-weight: bold\"> Optimizer params: </span><span style=\"color: #00af00; text-decoration-color: #00af00\">33,924</span> (132.52 KB)\n",
              "</pre>\n"
            ]
          },
          "metadata": {}
        }
      ]
    },
    {
      "cell_type": "code",
      "source": [
        "plt.xlabel(\"# Epoch\");\n",
        "plt.ylabel(\"Loss\");\n",
        "plt.plot(history.history[\"loss\"]);"
      ],
      "metadata": {
        "colab": {
          "base_uri": "https://localhost:8080/",
          "height": 449
        },
        "id": "AksmJ7ZleHMb",
        "outputId": "c08c443b-bb27-4ad5-cee3-1b6b4e324f83"
      },
      "execution_count": 158,
      "outputs": [
        {
          "output_type": "display_data",
          "data": {
            "text/plain": [
              "<Figure size 640x480 with 1 Axes>"
            ],
            "image/png": "[encoded data removed]"
          },
          "metadata": {}
        }
      ]
    },
    {
      "cell_type": "code",
      "source": [
        "plt.xlabel(\"# Epoch\");\n",
        "plt.ylabel(\"MAE\");\n",
        "plt.plot(history.history[\"mae\"]);"
      ],
      "metadata": {
        "colab": {
          "base_uri": "https://localhost:8080/",
          "height": 449
        },
        "id": "0omV_0RDfLFD",
        "outputId": "ececaad6-ee30-42c7-927a-f159d04107b9"
      },
      "execution_count": 150,
      "outputs": [
        {
          "output_type": "display_data",
          "data": {
            "text/plain": [
              "<Figure size 640x480 with 1 Axes>"
            ],
            "image/png": "[encoded data removed]"
          },
          "metadata": {}
        }
      ]
    },
    {
      "cell_type": "code",
      "source": [
        "model.save('/content/drive/MyDrive/AI-2/Taller_1/modelo_punto1.h5')"
      ],
      "metadata": {
        "colab": {
          "base_uri": "https://localhost:8080/"
        },
        "id": "Q9_KOnwOfim6",
        "outputId": "320de354-af03-4739-b39d-8c43344693d7"
      },
      "execution_count": 159,
      "outputs": [
        {
          "output_type": "stream",
          "name": "stderr",
          "text": [
            "WARNING:absl:You are saving your model as an HDF5 file via `model.save()` or `keras.saving.save_model(model)`. This file format is considered legacy. We recommend using instead the native Keras format, e.g. `model.save('my_model.keras')` or `keras.saving.save_model(model, 'my_model.keras')`. \n"
          ]
        }
      ]
    },
    {
      "cell_type": "code",
      "source": [
        "import os\n",
        "print(os.listdir())\n"
      ],
      "metadata": {
        "colab": {
          "base_uri": "https://localhost:8080/"
        },
        "id": "Krx55EMPf0Hi",
        "outputId": "b050e72c-e340-440e-fc9b-6092224c682d"
      },
      "execution_count": 160,
      "outputs": [
        {
          "output_type": "stream",
          "name": "stdout",
          "text": [
            "['3D83CA9C-74A7-4977-A3BD-6EA5AFE36F8D.jpeg', 'Ceremonia de Graduación del programa de Medicina UPTC.mp4', 'POSTER FINAL .pdf', 'POSTER FINAL 2021.pdf', 'PC NUEVO 22', 'Untitled0.ipynb', 'como grabar pc windows 10 - Buscar con Google y 7 páginas más - Perfil 1_ Microsoft\\u200b Edge 2022-02-05 11-26-37.mp4', 'Cómo grabar la pantalla en Windows 10 sin programas _ Tecnología - ComputerHoy.com y 7 páginas más - Perfil 1_ Microsoft\\u200b Edge 2022-02-05 11-28-38.mp4', 'Tales of  freedom.gform', 'TRABAJO 1 REDES.gdoc', 'INFERENCIA.ipynb', 'Untitled1.ipynb', 'CORRELACION.ipynb', 'Avance Redes 1.gslides', 'Fase2_Grupo0xx.gdoc', 'Apuntes Simulacion.gdoc', 'Trabajo 1 Simulacion.gdoc', 'Apuntes Paralelo.gdoc', 'TRABAJO 3 SIMLUACION.gdoc', 'TRABAJO 4 SIMULACION 30 03 23.gdoc', 'Funcion de sierra.ipynb', 'LISTOS.rar', 'Untitled2.ipynb', 'Untitled3.ipynb', 'Untitled4.ipynb', 'Untitled5.ipynb', 'Untitled6.ipynb', 'PROYECTO SIMULACIÓN DIGITAL 2023-1.gslides', 'Fechas importantes UIS y asistencia a clases .gdoc', 'PROYECTO SIMULACION 2023-1.gdoc', '202337120_120 (1).ipynb', '202337120_107.ipynb', '\\t202337120_19.ipynb', '202337120_120.ipynb', '202337120_13.ipynb', '202337120_168.ipynb', 'Apuntes Redes 1.gdoc', 'CDIO JACK.mp4', 'Presentacion Debugging.gslides', '.ipynb', 'Untitled7.ipynb', 'deromob_Template_SystemsFest2022.pptx', 'Fase4.docx', 'Helman andres merchan quevedo.pdf', 'Carta de compromiso_2023-2.gdoc', 'Carta de compromiso_2023-2.docx', 'Untitled8.ipynb', 'Documento sin título.gdoc', 'DISPRO LISTO', '2024-1 UIS', 'Movimiento (1).jpeg', 'Movimiento.jpeg', 'Grupo6-PresentacionUML-DiagramaDeClaes.pptx', 'Sitio web sin título (1).gsite', 'Sitio web sin título.gsite', 'Hoja de cálculo sin título.gsheet', '21 andres marchan', 'Professional and academic activities.gdoc', '2. Análisis del estudio técnico del proyecto. 2.1....gsheet', 'Untitled9.ipynb', 'Tabla 1. Resumen del proyectoNombre del proyectoR....gsheet', 'Tabla 2. Roles en la actividadRolFunciónnombre de....gsheet', 'Tabla 3. CronogramaActividadResponsableFecha lími....gsheet', 'Untitled10.ipynb', 'Solicitud.docx', 'QUIZ.gdoc', 'Reporte1.docx', 'Proyecto analisis ', 'ProjReport1_Helman_Merchan.gdoc', 'Colab Notebooks', 'Pendiente UIS 2024-1.gdoc', 'Untitled12.ipynb', 'Unveiling_Correct_Event_Sequences_in_Complex_Systems__A_V_Net_Simulation.docx', 'Tu pasabordo.pdf', 'Untitled11.ipynb', 'Gerencia 25 de junio 24.gdoc', 'Informe Exposicion.gdoc', 'Informe_3_Final_C2.docx', 'Cuarta Entrega Gerencia.gdoc', 'Parcial Final PS.gdoc', 'Horario 2022-1.gsheet', 'FINAL UIS 2024-2.gdoc', 'Quiz.gdoc', 'AI-2', 'Trabajo de grado ', 'modelo_punto3.h5', 'modelo_punto1.h5', 'content']\n"
          ]
        }
      ]
    },
    {
      "cell_type": "markdown",
      "source": [
        "#**2. Punto**\n",
        "\n",
        "Ahora construiremos un modelo de regresión utilizando una arquitectura de tipo DNN, pero utlizando como información secuencial del número de hurtos. En este caso, el vector de caracteristicas son los hurtos que han sucedido en una ventana temporal anterior de una semana (7 dias) y un mes (30 dias). ver figura para configurar el vector de entrada. Considere los siguientes items:\n",
        "\n",
        "\n",
        "\n",
        "<img src=\"https://gitlab.com/bivl2ab/academico/cursos-uis/ai/ai-2-uis-student/-/raw/master/talleres/Taller%201/tl_1pred.png\" width=\"1000px\" height=\"250px\">\n",
        "\n",
        "\n",
        "\n",
        "- La arquitectura debe tener mas de 3 capas.\n",
        "- Seleccione y justifique una función de perdida.\n",
        "- Seleccione y justifique las activaciones.\n",
        "- Evidencie los resultados para ventanas historicas de una semana y de un mes en test. Realice unas conclusiones al respecto."
      ],
      "metadata": {
        "id": "PiV7eFlIF3mL"
      }
    },
    {
      "cell_type": "code",
      "source": [
        "import pandas as pd\n",
        "from sklearn.preprocessing import StandardScaler\n",
        "import numpy as np\n",
        "import tensorflow as tf\n",
        "\n",
        "# Cargar los datos en Colab\n",
        "data = pd.read_csv('/content/drive/MyDrive/AI-2/Taller_1/Reporte_Hurto_por_Modalidades_Polic_a_Nacional.csv')\n",
        "bogota_data = data[data['MUNICIPIO'] == 'BOGOTÁ D.C. (CT)']\n",
        "bogota_data['FECHA HECHO'] = pd.to_datetime(bogota_data['FECHA HECHO'], format='%d/%m/%Y', errors='coerce')\n",
        "\n",
        "# Ordenar por fecha\n",
        "bogota_data_sorted = bogota_data.sort_values('FECHA HECHO')\n",
        "\n",
        "# Definir función para crear ventanas temporales\n",
        "def create_time_windows(data, window_size, target_col):\n",
        "    X, y = [], []\n",
        "    for i in range(window_size, len(data)):\n",
        "        X.append(data[target_col].values[i-window_size:i])\n",
        "        y.append(data[target_col].values[i])\n",
        "    return np.array(X), np.array(y)\n",
        "\n",
        "# Crear ventanas de 7 y 30 días\n",
        "window_size_week = 7\n",
        "window_size_month = 30\n",
        "\n",
        "X_week, y_week = create_time_windows(bogota_data_sorted, window_size_week, 'CANTIDAD')\n",
        "X_month, y_month = create_time_windows(bogota_data_sorted, window_size_month, 'CANTIDAD')\n",
        "\n",
        "# Dividir en entrenamiento y prueba\n",
        "train_week = len(bogota_data_sorted[bogota_data_sorted['FECHA HECHO'].dt.year <= 2021]) - window_size_week\n",
        "train_month = len(bogota_data_sorted[bogota_data_sorted['FECHA HECHO'].dt.year <= 2021]) - window_size_month\n",
        "\n",
        "X_train_week, X_test_week = X_week[:train_week], X_week[train_week:]\n",
        "y_train_week, y_test_week = y_week[:train_week], y_week[train_week:]\n",
        "\n",
        "X_train_month, X_test_month = X_month[:train_month], X_month[train_month:]\n",
        "y_train_month, y_test_month = y_month[:train_month], y_month[train_month:]\n",
        "\n",
        "# Definir modelo DNN\n",
        "def create_dnn_model(input_shape):\n",
        "    model = tf.keras.Sequential([\n",
        "        tf.keras.layers.Dense(64, activation='relu', input_shape=(input_shape,)),\n",
        "        tf.keras.layers.Dense(128, activation='relu'),\n",
        "        tf.keras.layers.Dense(64, activation='relu'),\n",
        "        tf.keras.layers.Dense(1)  # Capa de salida para regresión\n",
        "    ])\n",
        "    model.compile(optimizer='adam', loss='mean_squared_error', metrics=['mae'])\n",
        "    return model\n",
        "\n",
        "# Entrenar modelo con ventana de 7 días\n",
        "model_week = create_dnn_model(X_train_week.shape[1])\n",
        "history_week = model_week.fit(X_train_week, y_train_week, epochs=20, validation_split=0.2, batch_size=32)\n",
        "test_loss_week, test_mae_week = model_week.evaluate(X_test_week, y_test_week)\n",
        "\n",
        "# Entrenar modelo con ventana de 30 días\n",
        "model_month = create_dnn_model(X_train_month.shape[1])\n",
        "history_month = model_month.fit(X_train_month, y_train_month, epochs=20, validation_split=0.2, batch_size=32)\n",
        "test_loss_month, test_mae_month = model_month.evaluate(X_test_month, y_test_month)\n",
        "\n",
        "print(f\"7-day window -> Test Loss: {test_loss_week}, Test MAE: {test_mae_week}\")\n",
        "print(f\"30-day window -> Test Loss: {test_loss_month}, Test MAE: {test_mae_month}\")\n"
      ],
      "metadata": {
        "id": "pcQFtgWNHHB4",
        "colab": {
          "base_uri": "https://localhost:8080/"
        },
        "outputId": "7e6783a3-4d2e-46ba-b088-e0b4f284fecf"
      },
      "execution_count": 161,
      "outputs": [
        {
          "output_type": "stream",
          "name": "stderr",
          "text": [
            "<ipython-input-161-94d857227b71>:7: DtypeWarning: Columns (2) have mixed types. Specify dtype option on import or set low_memory=False.\n",
            "  data = pd.read_csv('/content/drive/MyDrive/AI-2/Taller_1/Reporte_Hurto_por_Modalidades_Polic_a_Nacional.csv')\n",
            "<ipython-input-161-94d857227b71>:9: SettingWithCopyWarning: \n",
            "A value is trying to be set on a copy of a slice from a DataFrame.\n",
            "Try using .loc[row_indexer,col_indexer] = value instead\n",
            "\n",
            "See the caveats in the documentation: https://pandas.pydata.org/pandas-docs/stable/user_guide/indexing.html#returning-a-view-versus-a-copy\n",
            "  bogota_data['FECHA HECHO'] = pd.to_datetime(bogota_data['FECHA HECHO'], format='%d/%m/%Y', errors='coerce')\n"
          ]
        },
        {
          "output_type": "stream",
          "name": "stdout",
          "text": [
            "Epoch 1/20\n"
          ]
        },
        {
          "output_type": "stream",
          "name": "stderr",
          "text": [
            "/usr/local/lib/python3.10/dist-packages/keras/src/layers/core/dense.py:87: UserWarning: Do not pass an `input_shape`/`input_dim` argument to a layer. When using Sequential models, prefer using an `Input(shape)` object as the first layer in the model instead.\n",
            "  super().__init__(activity_regularizer=activity_regularizer, **kwargs)\n"
          ]
        },
        {
          "output_type": "stream",
          "name": "stdout",
          "text": [
            "\u001b[1m1377/1377\u001b[0m \u001b[32m━━━━━━━━━━━━━━━━━━━━\u001b[0m\u001b[37m\u001b[0m \u001b[1m4s\u001b[0m 2ms/step - loss: 43.8862 - mae: 2.9787 - val_loss: 3.3887 - val_mae: 1.4686\n",
            "Epoch 2/20\n",
            "\u001b[1m1377/1377\u001b[0m \u001b[32m━━━━━━━━━━━━━━━━━━━━\u001b[0m\u001b[37m\u001b[0m \u001b[1m6s\u001b[0m 3ms/step - loss: 40.6248 - mae: 2.9353 - val_loss: 2.8642 - val_mae: 0.7524\n",
            "Epoch 3/20\n",
            "\u001b[1m1377/1377\u001b[0m \u001b[32m━━━━━━━━━━━━━━━━━━━━\u001b[0m\u001b[37m\u001b[0m \u001b[1m4s\u001b[0m 2ms/step - loss: 40.2413 - mae: 2.8788 - val_loss: 2.8332 - val_mae: 0.8872\n",
            "Epoch 4/20\n",
            "\u001b[1m1377/1377\u001b[0m \u001b[32m━━━━━━━━━━━━━━━━━━━━\u001b[0m\u001b[37m\u001b[0m \u001b[1m3s\u001b[0m 2ms/step - loss: 40.6519 - mae: 2.8984 - val_loss: 2.9219 - val_mae: 0.7921\n",
            "Epoch 5/20\n",
            "\u001b[1m1377/1377\u001b[0m \u001b[32m━━━━━━━━━━━━━━━━━━━━\u001b[0m\u001b[37m\u001b[0m \u001b[1m6s\u001b[0m 3ms/step - loss: 42.1056 - mae: 2.9494 - val_loss: 2.8879 - val_mae: 0.9110\n",
            "Epoch 6/20\n",
            "\u001b[1m1377/1377\u001b[0m \u001b[32m━━━━━━━━━━━━━━━━━━━━\u001b[0m\u001b[37m\u001b[0m \u001b[1m3s\u001b[0m 2ms/step - loss: 38.8995 - mae: 2.8315 - val_loss: 2.8018 - val_mae: 1.0397\n",
            "Epoch 7/20\n",
            "\u001b[1m1377/1377\u001b[0m \u001b[32m━━━━━━━━━━━━━━━━━━━━\u001b[0m\u001b[37m\u001b[0m \u001b[1m3s\u001b[0m 2ms/step - loss: 41.0989 - mae: 2.9200 - val_loss: 2.7889 - val_mae: 0.8209\n",
            "Epoch 8/20\n",
            "\u001b[1m1377/1377\u001b[0m \u001b[32m━━━━━━━━━━━━━━━━━━━━\u001b[0m\u001b[37m\u001b[0m \u001b[1m3s\u001b[0m 2ms/step - loss: 40.0933 - mae: 2.8800 - val_loss: 2.7876 - val_mae: 0.7628\n",
            "Epoch 9/20\n",
            "\u001b[1m1377/1377\u001b[0m \u001b[32m━━━━━━━━━━━━━━━━━━━━\u001b[0m\u001b[37m\u001b[0m \u001b[1m4s\u001b[0m 3ms/step - loss: 41.0198 - mae: 2.9117 - val_loss: 2.7312 - val_mae: 0.7454\n",
            "Epoch 10/20\n",
            "\u001b[1m1377/1377\u001b[0m \u001b[32m━━━━━━━━━━━━━━━━━━━━\u001b[0m\u001b[37m\u001b[0m \u001b[1m4s\u001b[0m 3ms/step - loss: 39.0231 - mae: 2.8338 - val_loss: 3.0930 - val_mae: 0.7870\n",
            "Epoch 11/20\n",
            "\u001b[1m1377/1377\u001b[0m \u001b[32m━━━━━━━━━━━━━━━━━━━━\u001b[0m\u001b[37m\u001b[0m \u001b[1m4s\u001b[0m 2ms/step - loss: 42.1639 - mae: 2.9149 - val_loss: 3.2129 - val_mae: 0.8725\n",
            "Epoch 12/20\n",
            "\u001b[1m1377/1377\u001b[0m \u001b[32m━━━━━━━━━━━━━━━━━━━━\u001b[0m\u001b[37m\u001b[0m \u001b[1m3s\u001b[0m 2ms/step - loss: 38.9651 - mae: 2.8437 - val_loss: 3.2863 - val_mae: 0.8715\n",
            "Epoch 13/20\n",
            "\u001b[1m1377/1377\u001b[0m \u001b[32m━━━━━━━━━━━━━━━━━━━━\u001b[0m\u001b[37m\u001b[0m \u001b[1m6s\u001b[0m 3ms/step - loss: 41.8746 - mae: 2.9555 - val_loss: 2.9090 - val_mae: 0.8319\n",
            "Epoch 14/20\n",
            "\u001b[1m1377/1377\u001b[0m \u001b[32m━━━━━━━━━━━━━━━━━━━━\u001b[0m\u001b[37m\u001b[0m \u001b[1m3s\u001b[0m 2ms/step - loss: 40.5161 - mae: 2.8969 - val_loss: 3.4538 - val_mae: 0.9513\n",
            "Epoch 15/20\n",
            "\u001b[1m1377/1377\u001b[0m \u001b[32m━━━━━━━━━━━━━━━━━━━━\u001b[0m\u001b[37m\u001b[0m \u001b[1m3s\u001b[0m 2ms/step - loss: 41.0729 - mae: 2.9442 - val_loss: 2.9381 - val_mae: 0.7504\n",
            "Epoch 16/20\n",
            "\u001b[1m1377/1377\u001b[0m \u001b[32m━━━━━━━━━━━━━━━━━━━━\u001b[0m\u001b[37m\u001b[0m \u001b[1m6s\u001b[0m 2ms/step - loss: 40.7499 - mae: 2.8766 - val_loss: 3.5354 - val_mae: 0.8872\n",
            "Epoch 17/20\n",
            "\u001b[1m1377/1377\u001b[0m \u001b[32m━━━━━━━━━━━━━━━━━━━━\u001b[0m\u001b[37m\u001b[0m \u001b[1m4s\u001b[0m 3ms/step - loss: 39.5599 - mae: 2.8979 - val_loss: 3.0639 - val_mae: 0.8084\n",
            "Epoch 18/20\n",
            "\u001b[1m1377/1377\u001b[0m \u001b[32m━━━━━━━━━━━━━━━━━━━━\u001b[0m\u001b[37m\u001b[0m \u001b[1m4s\u001b[0m 2ms/step - loss: 40.9635 - mae: 2.9099 - val_loss: 3.1961 - val_mae: 0.8060\n",
            "Epoch 19/20\n",
            "\u001b[1m1377/1377\u001b[0m \u001b[32m━━━━━━━━━━━━━━━━━━━━\u001b[0m\u001b[37m\u001b[0m \u001b[1m3s\u001b[0m 2ms/step - loss: 42.4014 - mae: 2.9707 - val_loss: 3.1534 - val_mae: 0.7847\n",
            "Epoch 20/20\n",
            "\u001b[1m1377/1377\u001b[0m \u001b[32m━━━━━━━━━━━━━━━━━━━━\u001b[0m\u001b[37m\u001b[0m \u001b[1m6s\u001b[0m 3ms/step - loss: 41.2063 - mae: 2.8945 - val_loss: 3.9504 - val_mae: 0.9162\n",
            "\u001b[1m67/67\u001b[0m \u001b[32m━━━━━━━━━━━━━━━━━━━━\u001b[0m\u001b[37m\u001b[0m \u001b[1m0s\u001b[0m 2ms/step - loss: 38.8129 - mae: 4.1333\n",
            "Epoch 1/20\n",
            "\u001b[1m1376/1376\u001b[0m \u001b[32m━━━━━━━━━━━━━━━━━━━━\u001b[0m\u001b[37m\u001b[0m \u001b[1m5s\u001b[0m 2ms/step - loss: 42.4456 - mae: 2.9757 - val_loss: 2.2780 - val_mae: 0.8173\n",
            "Epoch 2/20\n",
            "\u001b[1m1376/1376\u001b[0m \u001b[32m━━━━━━━━━━━━━━━━━━━━\u001b[0m\u001b[37m\u001b[0m \u001b[1m5s\u001b[0m 2ms/step - loss: 39.1226 - mae: 2.9063 - val_loss: 2.3017 - val_mae: 0.8969\n",
            "Epoch 3/20\n",
            "\u001b[1m1376/1376\u001b[0m \u001b[32m━━━━━━━━━━━━━━━━━━━━\u001b[0m\u001b[37m\u001b[0m \u001b[1m3s\u001b[0m 2ms/step - loss: 40.1016 - mae: 2.9938 - val_loss: 2.3615 - val_mae: 0.9459\n",
            "Epoch 4/20\n",
            "\u001b[1m1376/1376\u001b[0m \u001b[32m━━━━━━━━━━━━━━━━━━━━\u001b[0m\u001b[37m\u001b[0m \u001b[1m5s\u001b[0m 2ms/step - loss: 39.2630 - mae: 2.9454 - val_loss: 2.3152 - val_mae: 0.8778\n",
            "Epoch 5/20\n",
            "\u001b[1m1376/1376\u001b[0m \u001b[32m━━━━━━━━━━━━━━━━━━━━\u001b[0m\u001b[37m\u001b[0m \u001b[1m3s\u001b[0m 2ms/step - loss: 39.4910 - mae: 2.9830 - val_loss: 2.3400 - val_mae: 0.8919\n",
            "Epoch 6/20\n",
            "\u001b[1m1376/1376\u001b[0m \u001b[32m━━━━━━━━━━━━━━━━━━━━\u001b[0m\u001b[37m\u001b[0m \u001b[1m5s\u001b[0m 2ms/step - loss: 38.2234 - mae: 2.9321 - val_loss: 2.3084 - val_mae: 0.8558\n",
            "Epoch 7/20\n",
            "\u001b[1m1376/1376\u001b[0m \u001b[32m━━━━━━━━━━━━━━━━━━━━\u001b[0m\u001b[37m\u001b[0m \u001b[1m5s\u001b[0m 2ms/step - loss: 37.4492 - mae: 2.9355 - val_loss: 2.2366 - val_mae: 0.7866\n",
            "Epoch 8/20\n",
            "\u001b[1m1376/1376\u001b[0m \u001b[32m━━━━━━━━━━━━━━━━━━━━\u001b[0m\u001b[37m\u001b[0m \u001b[1m3s\u001b[0m 2ms/step - loss: 37.3468 - mae: 2.8760 - val_loss: 2.3204 - val_mae: 0.8279\n",
            "Epoch 9/20\n",
            "\u001b[1m1376/1376\u001b[0m \u001b[32m━━━━━━━━━━━━━━━━━━━━\u001b[0m\u001b[37m\u001b[0m \u001b[1m3s\u001b[0m 2ms/step - loss: 35.9594 - mae: 2.8614 - val_loss: 2.4201 - val_mae: 0.8510\n",
            "Epoch 10/20\n",
            "\u001b[1m1376/1376\u001b[0m \u001b[32m━━━━━━━━━━━━━━━━━━━━\u001b[0m\u001b[37m\u001b[0m \u001b[1m6s\u001b[0m 3ms/step - loss: 36.5002 - mae: 2.9045 - val_loss: 2.2531 - val_mae: 0.7109\n",
            "Epoch 11/20\n",
            "\u001b[1m1376/1376\u001b[0m \u001b[32m━━━━━━━━━━━━━━━━━━━━\u001b[0m\u001b[37m\u001b[0m \u001b[1m4s\u001b[0m 2ms/step - loss: 35.4739 - mae: 2.8373 - val_loss: 2.3252 - val_mae: 0.7194\n",
            "Epoch 12/20\n",
            "\u001b[1m1376/1376\u001b[0m \u001b[32m━━━━━━━━━━━━━━━━━━━━\u001b[0m\u001b[37m\u001b[0m \u001b[1m5s\u001b[0m 2ms/step - loss: 35.7601 - mae: 2.8382 - val_loss: 2.2900 - val_mae: 0.7102\n",
            "Epoch 13/20\n",
            "\u001b[1m1376/1376\u001b[0m \u001b[32m━━━━━━━━━━━━━━━━━━━━\u001b[0m\u001b[37m\u001b[0m \u001b[1m7s\u001b[0m 3ms/step - loss: 32.7361 - mae: 2.7377 - val_loss: 2.2957 - val_mae: 0.7028\n",
            "Epoch 14/20\n",
            "\u001b[1m1376/1376\u001b[0m \u001b[32m━━━━━━━━━━━━━━━━━━━━\u001b[0m\u001b[37m\u001b[0m \u001b[1m3s\u001b[0m 2ms/step - loss: 33.9707 - mae: 2.7834 - val_loss: 2.5436 - val_mae: 0.8486\n",
            "Epoch 15/20\n",
            "\u001b[1m1376/1376\u001b[0m \u001b[32m━━━━━━━━━━━━━━━━━━━━\u001b[0m\u001b[37m\u001b[0m \u001b[1m5s\u001b[0m 2ms/step - loss: 31.5966 - mae: 2.7301 - val_loss: 2.4060 - val_mae: 0.7332\n",
            "Epoch 16/20\n",
            "\u001b[1m1376/1376\u001b[0m \u001b[32m━━━━━━━━━━━━━━━━━━━━\u001b[0m\u001b[37m\u001b[0m \u001b[1m6s\u001b[0m 3ms/step - loss: 31.0720 - mae: 2.6788 - val_loss: 2.4797 - val_mae: 0.7526\n",
            "Epoch 17/20\n",
            "\u001b[1m1376/1376\u001b[0m \u001b[32m━━━━━━━━━━━━━━━━━━━━\u001b[0m\u001b[37m\u001b[0m \u001b[1m3s\u001b[0m 2ms/step - loss: 31.3089 - mae: 2.6969 - val_loss: 2.3011 - val_mae: 0.6987\n",
            "Epoch 18/20\n",
            "\u001b[1m1376/1376\u001b[0m \u001b[32m━━━━━━━━━━━━━━━━━━━━\u001b[0m\u001b[37m\u001b[0m \u001b[1m3s\u001b[0m 2ms/step - loss: 29.7913 - mae: 2.6539 - val_loss: 2.3420 - val_mae: 0.7031\n",
            "Epoch 19/20\n",
            "\u001b[1m1376/1376\u001b[0m \u001b[32m━━━━━━━━━━━━━━━━━━━━\u001b[0m\u001b[37m\u001b[0m \u001b[1m3s\u001b[0m 2ms/step - loss: 27.9835 - mae: 2.5740 - val_loss: 2.3754 - val_mae: 0.6609\n",
            "Epoch 20/20\n",
            "\u001b[1m1376/1376\u001b[0m \u001b[32m━━━━━━━━━━━━━━━━━━━━\u001b[0m\u001b[37m\u001b[0m \u001b[1m4s\u001b[0m 3ms/step - loss: 27.3944 - mae: 2.5481 - val_loss: 2.5124 - val_mae: 0.7494\n",
            "\u001b[1m67/67\u001b[0m \u001b[32m━━━━━━━━━━━━━━━━━━━━\u001b[0m\u001b[37m\u001b[0m \u001b[1m0s\u001b[0m 1ms/step - loss: 40.7875 - mae: 3.9801\n",
            "7-day window -> Test Loss: 33.96757888793945, Test MAE: 3.979782819747925\n",
            "30-day window -> Test Loss: 35.781341552734375, Test MAE: 3.825087785720825\n"
          ]
        }
      ]
    },
    {
      "cell_type": "code",
      "source": [
        "model.summary()"
      ],
      "metadata": {
        "id": "T3x6wsMtHG6B",
        "colab": {
          "base_uri": "https://localhost:8080/",
          "height": 273
        },
        "outputId": "c38ae7ae-daf9-43bc-ce53-eb3600ebc9b8"
      },
      "execution_count": 162,
      "outputs": [
        {
          "output_type": "display_data",
          "data": {
            "text/plain": [
              "\u001b[1mModel: \"sequential_8\"\u001b[0m\n"
            ],
            "text/html": [
              "<pre style=\"white-space:pre;overflow-x:auto;line-height:normal;font-family:Menlo,'DejaVu Sans Mono',consolas,'Courier New',monospace\"><span style=\"font-weight: bold\">Model: \"sequential_8\"</span>\n",
              "</pre>\n"
            ]
          },
          "metadata": {}
        },
        {
          "output_type": "display_data",
          "data": {
            "text/plain": [
              "┏━━━━━━━━━━━━━━━━━━━━━━━━━━━━━━━━━━━━━━┳━━━━━━━━━━━━━━━━━━━━━━━━━━━━━┳━━━━━━━━━━━━━━━━━┓\n",
              "┃\u001b[1m \u001b[0m\u001b[1mLayer (type)                        \u001b[0m\u001b[1m \u001b[0m┃\u001b[1m \u001b[0m\u001b[1mOutput Shape               \u001b[0m\u001b[1m \u001b[0m┃\u001b[1m \u001b[0m\u001b[1m        Param #\u001b[0m\u001b[1m \u001b[0m┃\n",
              "┡━━━━━━━━━━━━━━━━━━━━━━━━━━━━━━━━━━━━━━╇━━━━━━━━━━━━━━━━━━━━━━━━━━━━━╇━━━━━━━━━━━━━━━━━┩\n",
              "│ dense_39 (\u001b[38;5;33mDense\u001b[0m)                     │ (\u001b[38;5;45mNone\u001b[0m, \u001b[38;5;34m64\u001b[0m)                  │             \u001b[38;5;34m320\u001b[0m │\n",
              "├──────────────────────────────────────┼─────────────────────────────┼─────────────────┤\n",
              "│ dense_40 (\u001b[38;5;33mDense\u001b[0m)                     │ (\u001b[38;5;45mNone\u001b[0m, \u001b[38;5;34m128\u001b[0m)                 │           \u001b[38;5;34m8,320\u001b[0m │\n",
              "├──────────────────────────────────────┼─────────────────────────────┼─────────────────┤\n",
              "│ dense_41 (\u001b[38;5;33mDense\u001b[0m)                     │ (\u001b[38;5;45mNone\u001b[0m, \u001b[38;5;34m64\u001b[0m)                  │           \u001b[38;5;34m8,256\u001b[0m │\n",
              "├──────────────────────────────────────┼─────────────────────────────┼─────────────────┤\n",
              "│ dense_42 (\u001b[38;5;33mDense\u001b[0m)                     │ (\u001b[38;5;45mNone\u001b[0m, \u001b[38;5;34m1\u001b[0m)                   │              \u001b[38;5;34m65\u001b[0m │\n",
              "└──────────────────────────────────────┴─────────────────────────────┴─────────────────┘\n"
            ],
            "text/html": [
              "<pre style=\"white-space:pre;overflow-x:auto;line-height:normal;font-family:Menlo,'DejaVu Sans Mono',consolas,'Courier New',monospace\">┏━━━━━━━━━━━━━━━━━━━━━━━━━━━━━━━━━━━━━━┳━━━━━━━━━━━━━━━━━━━━━━━━━━━━━┳━━━━━━━━━━━━━━━━━┓\n",
              "┃<span style=\"font-weight: bold\"> Layer (type)                         </span>┃<span style=\"font-weight: bold\"> Output Shape                </span>┃<span style=\"font-weight: bold\">         Param # </span>┃\n",
              "┡━━━━━━━━━━━━━━━━━━━━━━━━━━━━━━━━━━━━━━╇━━━━━━━━━━━━━━━━━━━━━━━━━━━━━╇━━━━━━━━━━━━━━━━━┩\n",
              "│ dense_39 (<span style=\"color: #0087ff; text-decoration-color: #0087ff\">Dense</span>)                     │ (<span style=\"color: #00d7ff; text-decoration-color: #00d7ff\">None</span>, <span style=\"color: #00af00; text-decoration-color: #00af00\">64</span>)                  │             <span style=\"color: #00af00; text-decoration-color: #00af00\">320</span> │\n",
              "├──────────────────────────────────────┼─────────────────────────────┼─────────────────┤\n",
              "│ dense_40 (<span style=\"color: #0087ff; text-decoration-color: #0087ff\">Dense</span>)                     │ (<span style=\"color: #00d7ff; text-decoration-color: #00d7ff\">None</span>, <span style=\"color: #00af00; text-decoration-color: #00af00\">128</span>)                 │           <span style=\"color: #00af00; text-decoration-color: #00af00\">8,320</span> │\n",
              "├──────────────────────────────────────┼─────────────────────────────┼─────────────────┤\n",
              "│ dense_41 (<span style=\"color: #0087ff; text-decoration-color: #0087ff\">Dense</span>)                     │ (<span style=\"color: #00d7ff; text-decoration-color: #00d7ff\">None</span>, <span style=\"color: #00af00; text-decoration-color: #00af00\">64</span>)                  │           <span style=\"color: #00af00; text-decoration-color: #00af00\">8,256</span> │\n",
              "├──────────────────────────────────────┼─────────────────────────────┼─────────────────┤\n",
              "│ dense_42 (<span style=\"color: #0087ff; text-decoration-color: #0087ff\">Dense</span>)                     │ (<span style=\"color: #00d7ff; text-decoration-color: #00d7ff\">None</span>, <span style=\"color: #00af00; text-decoration-color: #00af00\">1</span>)                   │              <span style=\"color: #00af00; text-decoration-color: #00af00\">65</span> │\n",
              "└──────────────────────────────────────┴─────────────────────────────┴─────────────────┘\n",
              "</pre>\n"
            ]
          },
          "metadata": {}
        },
        {
          "output_type": "display_data",
          "data": {
            "text/plain": [
              "\u001b[1m Total params: \u001b[0m\u001b[38;5;34m50,885\u001b[0m (198.77 KB)\n"
            ],
            "text/html": [
              "<pre style=\"white-space:pre;overflow-x:auto;line-height:normal;font-family:Menlo,'DejaVu Sans Mono',consolas,'Courier New',monospace\"><span style=\"font-weight: bold\"> Total params: </span><span style=\"color: #00af00; text-decoration-color: #00af00\">50,885</span> (198.77 KB)\n",
              "</pre>\n"
            ]
          },
          "metadata": {}
        },
        {
          "output_type": "display_data",
          "data": {
            "text/plain": [
              "\u001b[1m Trainable params: \u001b[0m\u001b[38;5;34m16,961\u001b[0m (66.25 KB)\n"
            ],
            "text/html": [
              "<pre style=\"white-space:pre;overflow-x:auto;line-height:normal;font-family:Menlo,'DejaVu Sans Mono',consolas,'Courier New',monospace\"><span style=\"font-weight: bold\"> Trainable params: </span><span style=\"color: #00af00; text-decoration-color: #00af00\">16,961</span> (66.25 KB)\n",
              "</pre>\n"
            ]
          },
          "metadata": {}
        },
        {
          "output_type": "display_data",
          "data": {
            "text/plain": [
              "\u001b[1m Non-trainable params: \u001b[0m\u001b[38;5;34m0\u001b[0m (0.00 B)\n"
            ],
            "text/html": [
              "<pre style=\"white-space:pre;overflow-x:auto;line-height:normal;font-family:Menlo,'DejaVu Sans Mono',consolas,'Courier New',monospace\"><span style=\"font-weight: bold\"> Non-trainable params: </span><span style=\"color: #00af00; text-decoration-color: #00af00\">0</span> (0.00 B)\n",
              "</pre>\n"
            ]
          },
          "metadata": {}
        },
        {
          "output_type": "display_data",
          "data": {
            "text/plain": [
              "\u001b[1m Optimizer params: \u001b[0m\u001b[38;5;34m33,924\u001b[0m (132.52 KB)\n"
            ],
            "text/html": [
              "<pre style=\"white-space:pre;overflow-x:auto;line-height:normal;font-family:Menlo,'DejaVu Sans Mono',consolas,'Courier New',monospace\"><span style=\"font-weight: bold\"> Optimizer params: </span><span style=\"color: #00af00; text-decoration-color: #00af00\">33,924</span> (132.52 KB)\n",
              "</pre>\n"
            ]
          },
          "metadata": {}
        }
      ]
    },
    {
      "cell_type": "code",
      "source": [
        "plt.xlabel(\"# Epoch\");\n",
        "plt.ylabel(\"Loss\");\n",
        "plt.plot(history.history[\"loss\"]);"
      ],
      "metadata": {
        "colab": {
          "base_uri": "https://localhost:8080/",
          "height": 449
        },
        "id": "IOMLI8N5q7QH",
        "outputId": "8428ff26-7668-4f38-a4ad-0ae718b11106"
      },
      "execution_count": 163,
      "outputs": [
        {
          "output_type": "display_data",
          "data": {
            "text/plain": [
              "<Figure size 640x480 with 1 Axes>"
            ],
            "image/png": "[encoded data removed]"
          },
          "metadata": {}
        }
      ]
    },
    {
      "cell_type": "code",
      "source": [
        "plt.xlabel(\"# Epoch\");\n",
        "plt.ylabel(\"MAE\");\n",
        "plt.plot(history.history[\"mae\"]);"
      ],
      "metadata": {
        "colab": {
          "base_uri": "https://localhost:8080/",
          "height": 449
        },
        "id": "2K3plgfYrAeo",
        "outputId": "cd1963f5-a7c1-4fa4-b882-c9affa850e5a"
      },
      "execution_count": 164,
      "outputs": [
        {
          "output_type": "display_data",
          "data": {
            "text/plain": [
              "<Figure size 640x480 with 1 Axes>"
            ],
            "image/png": "[encoded data removed]"
          },
          "metadata": {}
        }
      ]
    },
    {
      "cell_type": "code",
      "source": [
        "model.save('/content/drive/MyDrive/AI-2/Taller_1/modelo_punto2.h5')"
      ],
      "metadata": {
        "colab": {
          "base_uri": "https://localhost:8080/"
        },
        "id": "wzANg-5ArOUm",
        "outputId": "1ea2dc3e-c038-4001-9cb0-cbbbe9f3f593"
      },
      "execution_count": 165,
      "outputs": [
        {
          "output_type": "stream",
          "name": "stderr",
          "text": [
            "WARNING:absl:You are saving your model as an HDF5 file via `model.save()` or `keras.saving.save_model(model)`. This file format is considered legacy. We recommend using instead the native Keras format, e.g. `model.save('my_model.keras')` or `keras.saving.save_model(model, 'my_model.keras')`. \n"
          ]
        }
      ]
    },
    {
      "cell_type": "code",
      "source": [
        "import os\n",
        "print(os.listdir())\n"
      ],
      "metadata": {
        "colab": {
          "base_uri": "https://localhost:8080/"
        },
        "id": "MYDBlMBNrXCD",
        "outputId": "cf6bc5eb-7f1d-4ba3-91fe-708f252c9d5b"
      },
      "execution_count": 166,
      "outputs": [
        {
          "output_type": "stream",
          "name": "stdout",
          "text": [
            "['3D83CA9C-74A7-4977-A3BD-6EA5AFE36F8D.jpeg', 'Ceremonia de Graduación del programa de Medicina UPTC.mp4', 'POSTER FINAL .pdf', 'POSTER FINAL 2021.pdf', 'PC NUEVO 22', 'Untitled0.ipynb', 'como grabar pc windows 10 - Buscar con Google y 7 páginas más - Perfil 1_ Microsoft\\u200b Edge 2022-02-05 11-26-37.mp4', 'Cómo grabar la pantalla en Windows 10 sin programas _ Tecnología - ComputerHoy.com y 7 páginas más - Perfil 1_ Microsoft\\u200b Edge 2022-02-05 11-28-38.mp4', 'Tales of  freedom.gform', 'TRABAJO 1 REDES.gdoc', 'INFERENCIA.ipynb', 'Untitled1.ipynb', 'CORRELACION.ipynb', 'Avance Redes 1.gslides', 'Fase2_Grupo0xx.gdoc', 'Apuntes Simulacion.gdoc', 'Trabajo 1 Simulacion.gdoc', 'Apuntes Paralelo.gdoc', 'TRABAJO 3 SIMLUACION.gdoc', 'TRABAJO 4 SIMULACION 30 03 23.gdoc', 'Funcion de sierra.ipynb', 'LISTOS.rar', 'Untitled2.ipynb', 'Untitled3.ipynb', 'Untitled4.ipynb', 'Untitled5.ipynb', 'Untitled6.ipynb', 'PROYECTO SIMULACIÓN DIGITAL 2023-1.gslides', 'Fechas importantes UIS y asistencia a clases .gdoc', 'PROYECTO SIMULACION 2023-1.gdoc', '202337120_120 (1).ipynb', '202337120_107.ipynb', '\\t202337120_19.ipynb', '202337120_120.ipynb', '202337120_13.ipynb', '202337120_168.ipynb', 'Apuntes Redes 1.gdoc', 'CDIO JACK.mp4', 'Presentacion Debugging.gslides', '.ipynb', 'Untitled7.ipynb', 'deromob_Template_SystemsFest2022.pptx', 'Fase4.docx', 'Helman andres merchan quevedo.pdf', 'Carta de compromiso_2023-2.gdoc', 'Carta de compromiso_2023-2.docx', 'Untitled8.ipynb', 'Documento sin título.gdoc', 'DISPRO LISTO', '2024-1 UIS', 'Movimiento (1).jpeg', 'Movimiento.jpeg', 'Grupo6-PresentacionUML-DiagramaDeClaes.pptx', 'Sitio web sin título (1).gsite', 'Sitio web sin título.gsite', 'Hoja de cálculo sin título.gsheet', '21 andres marchan', 'Professional and academic activities.gdoc', '2. Análisis del estudio técnico del proyecto. 2.1....gsheet', 'Untitled9.ipynb', 'Tabla 1. Resumen del proyectoNombre del proyectoR....gsheet', 'Tabla 2. Roles en la actividadRolFunciónnombre de....gsheet', 'Tabla 3. CronogramaActividadResponsableFecha lími....gsheet', 'Untitled10.ipynb', 'Solicitud.docx', 'QUIZ.gdoc', 'Reporte1.docx', 'Proyecto analisis ', 'ProjReport1_Helman_Merchan.gdoc', 'Colab Notebooks', 'Pendiente UIS 2024-1.gdoc', 'Untitled12.ipynb', 'Unveiling_Correct_Event_Sequences_in_Complex_Systems__A_V_Net_Simulation.docx', 'Tu pasabordo.pdf', 'Untitled11.ipynb', 'Gerencia 25 de junio 24.gdoc', 'Informe Exposicion.gdoc', 'Informe_3_Final_C2.docx', 'Cuarta Entrega Gerencia.gdoc', 'Parcial Final PS.gdoc', 'Horario 2022-1.gsheet', 'FINAL UIS 2024-2.gdoc', 'Quiz.gdoc', 'AI-2', 'Trabajo de grado ', 'modelo_punto3.h5', 'modelo_punto1.h5', 'content']\n"
          ]
        }
      ]
    },
    {
      "cell_type": "markdown",
      "source": [
        "#**3. Punto**\n",
        "El cáncer de pecho es una de las principales causas de muerte en mujeres. El uso de modelos de inteligencia artificial, como redes neuronales profundas (DNN), para clasificar tumores como malignos o benignos, mejora el diagnóstico temprano y aumenta las tasas de supervivencia. Estos modelos identifican patrones complejos en datos médicos que son difíciles de detectar manualmente, ayudando a tomar decisiones clínicas más precisas.\n",
        "\n",
        "El dataset proporcionado contiene información de pacientes diagnosticados con cáncer de pecho. Cada registro está asociado a un paciente único identificado mediante un ID, el tipo de cáncer (maligno o benigno) y las siguientes características visuales de las células cancerosas extraídas de imágenes de mamografías:\n",
        "\n",
        "- **radius_mean**: Radio promedio de las células.\n",
        "- **texture_mean**: Textura promedio de las células.\n",
        "- **perimeter_mean**: Perímetro promedio de las células.\n",
        "- **area_mean**: Área promedio de las células.\n",
        "- **smoothness_mean**: Suavidad promedio de las células.\n",
        "- **compactness_mean**: Compacidad promedio de las células.\n",
        "- **concavity_mean**: Concavidad promedio de las células.\n",
        "- **concave points_mean**: Puntos cóncavos promedio.\n",
        "\n",
        "**Source:** https://www.kaggle.com/datasets/erdemtaha/cancer-data?resource=download\n",
        "\n",
        "El objetivo es predecir si el tipo de cáncer es maligno o benigno (clasificación binaria), a partir de estas características.\n",
        "\n",
        "Deben desarrollar un modelo de red neuronal profunda (DNN) para la clasificación binaria de los tipos de cáncer (maligno vs benigno).\n",
        "\n",
        "**IMPORTANTE:** Ustedes deben definir los hiperparámetros tales como:\n",
        "\n",
        "- Numero de capas y neuronas por capa\n",
        "- Epochs\n",
        "- Optimizador\n",
        "- Learning rate\n",
        "- Tamaño del batch\n",
        "\n",
        "**IMPORTANTE:**\n",
        "\n",
        "- Reporten las métricas de precisión, y recall (sensibilidad) modelo en el conjunto de prueba.\n",
        "- Realicen una matriz de confusión y analicen los resultados."
      ],
      "metadata": {
        "id": "WI7iKbONKEJ0"
      }
    },
    {
      "cell_type": "code",
      "source": [
        "import pandas as pd\n",
        "from sklearn.model_selection import train_test_split\n",
        "from sklearn.preprocessing import LabelEncoder, StandardScaler\n",
        "\n",
        "# Load the dataset\n",
        "data3 = pd.read_csv('/content/drive/MyDrive/AI-2/Taller_1/Cancer_Data.csv')\n",
        "data3.head()"
      ],
      "metadata": {
        "id": "0xHhV64g6N_K",
        "outputId": "f01f87b5-6d6c-4143-ab62-27594b2a0a4c",
        "colab": {
          "base_uri": "https://localhost:8080/",
          "height": 273
        }
      },
      "execution_count": 41,
      "outputs": [
        {
          "output_type": "execute_result",
          "data": {
            "text/plain": [
              "         id diagnosis  radius_mean  texture_mean  perimeter_mean  area_mean  \\\n",
              "0    842302         M        17.99         10.38          122.80     1001.0   \n",
              "1    842517         M        20.57         17.77          132.90     1326.0   \n",
              "2  84300903         M        19.69         21.25          130.00     1203.0   \n",
              "3  84348301         M        11.42         20.38           77.58      386.1   \n",
              "4  84358402         M        20.29         14.34          135.10     1297.0   \n",
              "\n",
              "   smoothness_mean  compactness_mean  concavity_mean  concave points_mean  \\\n",
              "0          0.11840           0.27760          0.3001              0.14710   \n",
              "1          0.08474           0.07864          0.0869              0.07017   \n",
              "2          0.10960           0.15990          0.1974              0.12790   \n",
              "3          0.14250           0.28390          0.2414              0.10520   \n",
              "4          0.10030           0.13280          0.1980              0.10430   \n",
              "\n",
              "   ...  texture_worst  perimeter_worst  area_worst  smoothness_worst  \\\n",
              "0  ...          17.33           184.60      2019.0            0.1622   \n",
              "1  ...          23.41           158.80      1956.0            0.1238   \n",
              "2  ...          25.53           152.50      1709.0            0.1444   \n",
              "3  ...          26.50            98.87       567.7            0.2098   \n",
              "4  ...          16.67           152.20      1575.0            0.1374   \n",
              "\n",
              "   compactness_worst  concavity_worst  concave points_worst  symmetry_worst  \\\n",
              "0             0.6656           0.7119                0.2654          0.4601   \n",
              "1             0.1866           0.2416                0.1860          0.2750   \n",
              "2             0.4245           0.4504                0.2430          0.3613   \n",
              "3             0.8663           0.6869                0.2575          0.6638   \n",
              "4             0.2050           0.4000                0.1625          0.2364   \n",
              "\n",
              "   fractal_dimension_worst  Unnamed: 32  \n",
              "0                  0.11890          NaN  \n",
              "1                  0.08902          NaN  \n",
              "2                  0.08758          NaN  \n",
              "3                  0.17300          NaN  \n",
              "4                  0.07678          NaN  \n",
              "\n",
              "[5 rows x 33 columns]"
            ],
            "text/html": [
              "\n",
              "  <div id=\"df-8f0f8359-921c-48cf-9545-98959e971b59\" class=\"colab-df-container\">\n",
              "    <div>\n",
              "<style scoped>\n",
              "    .dataframe tbody tr th:only-of-type {\n",
              "        vertical-align: middle;\n",
              "    }\n",
              "\n",
              "    .dataframe tbody tr th {\n",
              "        vertical-align: top;\n",
              "    }\n",
              "\n",
              "    .dataframe thead th {\n",
              "        text-align: right;\n",
              "    }\n",
              "</style>\n",
              "<table border=\"1\" class=\"dataframe\">\n",
              "  <thead>\n",
              "    <tr style=\"text-align: right;\">\n",
              "      <th></th>\n",
              "      <th>id</th>\n",
              "      <th>diagnosis</th>\n",
              "      <th>radius_mean</th>\n",
              "      <th>texture_mean</th>\n",
              "      <th>perimeter_mean</th>\n",
              "      <th>area_mean</th>\n",
              "      <th>smoothness_mean</th>\n",
              "      <th>compactness_mean</th>\n",
              "      <th>concavity_mean</th>\n",
              "      <th>concave points_mean</th>\n",
              "      <th>...</th>\n",
              "      <th>texture_worst</th>\n",
              "      <th>perimeter_worst</th>\n",
              "      <th>area_worst</th>\n",
              "      <th>smoothness_worst</th>\n",
              "      <th>compactness_worst</th>\n",
              "      <th>concavity_worst</th>\n",
              "      <th>concave points_worst</th>\n",
              "      <th>symmetry_worst</th>\n",
              "      <th>fractal_dimension_worst</th>\n",
              "      <th>Unnamed: 32</th>\n",
              "    </tr>\n",
              "  </thead>\n",
              "  <tbody>\n",
              "    <tr>\n",
              "      <th>0</th>\n",
              "      <td>842302</td>\n",
              "      <td>M</td>\n",
              "      <td>17.99</td>\n",
              "      <td>10.38</td>\n",
              "      <td>122.80</td>\n",
              "      <td>1001.0</td>\n",
              "      <td>0.11840</td>\n",
              "      <td>0.27760</td>\n",
              "      <td>0.3001</td>\n",
              "      <td>0.14710</td>\n",
              "      <td>...</td>\n",
              "      <td>17.33</td>\n",
              "      <td>184.60</td>\n",
              "      <td>2019.0</td>\n",
              "      <td>0.1622</td>\n",
              "      <td>0.6656</td>\n",
              "      <td>0.7119</td>\n",
              "      <td>0.2654</td>\n",
              "      <td>0.4601</td>\n",
              "      <td>0.11890</td>\n",
              "      <td>NaN</td>\n",
              "    </tr>\n",
              "    <tr>\n",
              "      <th>1</th>\n",
              "      <td>842517</td>\n",
              "      <td>M</td>\n",
              "      <td>20.57</td>\n",
              "      <td>17.77</td>\n",
              "      <td>132.90</td>\n",
              "      <td>1326.0</td>\n",
              "      <td>0.08474</td>\n",
              "      <td>0.07864</td>\n",
              "      <td>0.0869</td>\n",
              "      <td>0.07017</td>\n",
              "      <td>...</td>\n",
              "      <td>23.41</td>\n",
              "      <td>158.80</td>\n",
              "      <td>1956.0</td>\n",
              "      <td>0.1238</td>\n",
              "      <td>0.1866</td>\n",
              "      <td>0.2416</td>\n",
              "      <td>0.1860</td>\n",
              "      <td>0.2750</td>\n",
              "      <td>0.08902</td>\n",
              "      <td>NaN</td>\n",
              "    </tr>\n",
              "    <tr>\n",
              "      <th>2</th>\n",
              "      <td>84300903</td>\n",
              "      <td>M</td>\n",
              "      <td>19.69</td>\n",
              "      <td>21.25</td>\n",
              "      <td>130.00</td>\n",
              "      <td>1203.0</td>\n",
              "      <td>0.10960</td>\n",
              "      <td>0.15990</td>\n",
              "      <td>0.1974</td>\n",
              "      <td>0.12790</td>\n",
              "      <td>...</td>\n",
              "      <td>25.53</td>\n",
              "      <td>152.50</td>\n",
              "      <td>1709.0</td>\n",
              "      <td>0.1444</td>\n",
              "      <td>0.4245</td>\n",
              "      <td>0.4504</td>\n",
              "      <td>0.2430</td>\n",
              "      <td>0.3613</td>\n",
              "      <td>0.08758</td>\n",
              "      <td>NaN</td>\n",
              "    </tr>\n",
              "    <tr>\n",
              "      <th>3</th>\n",
              "      <td>84348301</td>\n",
              "      <td>M</td>\n",
              "      <td>11.42</td>\n",
              "      <td>20.38</td>\n",
              "      <td>77.58</td>\n",
              "      <td>386.1</td>\n",
              "      <td>0.14250</td>\n",
              "      <td>0.28390</td>\n",
              "      <td>0.2414</td>\n",
              "      <td>0.10520</td>\n",
              "      <td>...</td>\n",
              "      <td>26.50</td>\n",
              "      <td>98.87</td>\n",
              "      <td>567.7</td>\n",
              "      <td>0.2098</td>\n",
              "      <td>0.8663</td>\n",
              "      <td>0.6869</td>\n",
              "      <td>0.2575</td>\n",
              "      <td>0.6638</td>\n",
              "      <td>0.17300</td>\n",
              "      <td>NaN</td>\n",
              "    </tr>\n",
              "    <tr>\n",
              "      <th>4</th>\n",
              "      <td>84358402</td>\n",
              "      <td>M</td>\n",
              "      <td>20.29</td>\n",
              "      <td>14.34</td>\n",
              "      <td>135.10</td>\n",
              "      <td>1297.0</td>\n",
              "      <td>0.10030</td>\n",
              "      <td>0.13280</td>\n",
              "      <td>0.1980</td>\n",
              "      <td>0.10430</td>\n",
              "      <td>...</td>\n",
              "      <td>16.67</td>\n",
              "      <td>152.20</td>\n",
              "      <td>1575.0</td>\n",
              "      <td>0.1374</td>\n",
              "      <td>0.2050</td>\n",
              "      <td>0.4000</td>\n",
              "      <td>0.1625</td>\n",
              "      <td>0.2364</td>\n",
              "      <td>0.07678</td>\n",
              "      <td>NaN</td>\n",
              "    </tr>\n",
              "  </tbody>\n",
              "</table>\n",
              "<p>5 rows × 33 columns</p>\n",
              "</div>\n",
              "    <div class=\"colab-df-buttons\">\n",
              "\n",
              "  <div class=\"colab-df-container\">\n",
              "    <button class=\"colab-df-convert\" onclick=\"convertToInteractive('df-8f0f8359-921c-48cf-9545-98959e971b59')\"\n",
              "            title=\"Convert this dataframe to an interactive table.\"\n",
              "            style=\"display:none;\">\n",
              "\n",
              "  <svg xmlns=\"http://www.w3.org/2000/svg\" height=\"24px\" viewBox=\"0 -960 960 960\">\n",
              "    <path d=\"M120-120v-720h720v720H120Zm60-500h600v-160H180v160Zm220 220h160v-160H400v160Zm0 220h160v-160H400v160ZM180-400h160v-160H180v160Zm440 0h160v-160H620v160ZM180-180h160v-160H180v160Zm440 0h160v-160H620v160Z\"/>\n",
              "  </svg>\n",
              "    </button>\n",
              "\n",
              "  <style>\n",
              "    .colab-df-container {\n",
              "      display:flex;\n",
              "      gap: 12px;\n",
              "    }\n",
              "\n",
              "    .colab-df-convert {\n",
              "      background-color: #E8F0FE;\n",
              "      border: none;\n",
              "      border-radius: 50%;\n",
              "      cursor: pointer;\n",
              "      display: none;\n",
              "      fill: #1967D2;\n",
              "      height: 32px;\n",
              "      padding: 0 0 0 0;\n",
              "      width: 32px;\n",
              "    }\n",
              "\n",
              "    .colab-df-convert:hover {\n",
              "      background-color: #E2EBFA;\n",
              "      box-shadow: 0px 1px 2px rgba(60, 64, 67, 0.3), 0px 1px 3px 1px rgba(60, 64, 67, 0.15);\n",
              "      fill: #174EA6;\n",
              "    }\n",
              "\n",
              "    .colab-df-buttons div {\n",
              "      margin-bottom: 4px;\n",
              "    }\n",
              "\n",
              "    [theme=dark] .colab-df-convert {\n",
              "      background-color: #3B4455;\n",
              "      fill: #D2E3FC;\n",
              "    }\n",
              "\n",
              "    [theme=dark] .colab-df-convert:hover {\n",
              "      background-color: #434B5C;\n",
              "      box-shadow: 0px 1px 3px 1px rgba(0, 0, 0, 0.15);\n",
              "      filter: drop-shadow(0px 1px 2px rgba(0, 0, 0, 0.3));\n",
              "      fill: #FFFFFF;\n",
              "    }\n",
              "  </style>\n",
              "\n",
              "    <script>\n",
              "      const buttonEl =\n",
              "        document.querySelector('#df-8f0f8359-921c-48cf-9545-98959e971b59 button.colab-df-convert');\n",
              "      buttonEl.style.display =\n",
              "        google.colab.kernel.accessAllowed ? 'block' : 'none';\n",
              "\n",
              "      async function convertToInteractive(key) {\n",
              "        const element = document.querySelector('#df-8f0f8359-921c-48cf-9545-98959e971b59');\n",
              "        const dataTable =\n",
              "          await google.colab.kernel.invokeFunction('convertToInteractive',\n",
              "                                                    [key], {});\n",
              "        if (!dataTable) return;\n",
              "\n",
              "        const docLinkHtml = 'Like what you see? Visit the ' +\n",
              "          '<a target=\"_blank\" href=https://colab.research.google.com/notebooks/data_table.ipynb>data table notebook</a>'\n",
              "          + ' to learn more about interactive tables.';\n",
              "        element.innerHTML = '';\n",
              "        dataTable['output_type'] = 'display_data';\n",
              "        await google.colab.output.renderOutput(dataTable, element);\n",
              "        const docLink = document.createElement('div');\n",
              "        docLink.innerHTML = docLinkHtml;\n",
              "        element.appendChild(docLink);\n",
              "      }\n",
              "    </script>\n",
              "  </div>\n",
              "\n",
              "\n",
              "<div id=\"df-29f92af3-84e4-4f5e-9791-65b71608d99d\">\n",
              "  <button class=\"colab-df-quickchart\" onclick=\"quickchart('df-29f92af3-84e4-4f5e-9791-65b71608d99d')\"\n",
              "            title=\"Suggest charts\"\n",
              "            style=\"display:none;\">\n",
              "\n",
              "<svg xmlns=\"http://www.w3.org/2000/svg\" height=\"24px\"viewBox=\"0 0 24 24\"\n",
              "     width=\"24px\">\n",
              "    <g>\n",
              "        <path d=\"M19 3H5c-1.1 0-2 .9-2 2v14c0 1.1.9 2 2 2h14c1.1 0 2-.9 2-2V5c0-1.1-.9-2-2-2zM9 17H7v-7h2v7zm4 0h-2V7h2v10zm4 0h-2v-4h2v4z\"/>\n",
              "    </g>\n",
              "</svg>\n",
              "  </button>\n",
              "\n",
              "<style>\n",
              "  .colab-df-quickchart {\n",
              "      --bg-color: #E8F0FE;\n",
              "      --fill-color: #1967D2;\n",
              "      --hover-bg-color: #E2EBFA;\n",
              "      --hover-fill-color: #174EA6;\n",
              "      --disabled-fill-color: #AAA;\n",
              "      --disabled-bg-color: #DDD;\n",
              "  }\n",
              "\n",
              "  [theme=dark] .colab-df-quickchart {\n",
              "      --bg-color: #3B4455;\n",
              "      --fill-color: #D2E3FC;\n",
              "      --hover-bg-color: #434B5C;\n",
              "      --hover-fill-color: #FFFFFF;\n",
              "      --disabled-bg-color: #3B4455;\n",
              "      --disabled-fill-color: #666;\n",
              "  }\n",
              "\n",
              "  .colab-df-quickchart {\n",
              "    background-color: var(--bg-color);\n",
              "    border: none;\n",
              "    border-radius: 50%;\n",
              "    cursor: pointer;\n",
              "    display: none;\n",
              "    fill: var(--fill-color);\n",
              "    height: 32px;\n",
              "    padding: 0;\n",
              "    width: 32px;\n",
              "  }\n",
              "\n",
              "  .colab-df-quickchart:hover {\n",
              "    background-color: var(--hover-bg-color);\n",
              "    box-shadow: 0 1px 2px rgba(60, 64, 67, 0.3), 0 1px 3px 1px rgba(60, 64, 67, 0.15);\n",
              "    fill: var(--button-hover-fill-color);\n",
              "  }\n",
              "\n",
              "  .colab-df-quickchart-complete:disabled,\n",
              "  .colab-df-quickchart-complete:disabled:hover {\n",
              "    background-color: var(--disabled-bg-color);\n",
              "    fill: var(--disabled-fill-color);\n",
              "    box-shadow: none;\n",
              "  }\n",
              "\n",
              "  .colab-df-spinner {\n",
              "    border: 2px solid var(--fill-color);\n",
              "    border-color: transparent;\n",
              "    border-bottom-color: var(--fill-color);\n",
              "    animation:\n",
              "      spin 1s steps(1) infinite;\n",
              "  }\n",
              "\n",
              "  @keyframes spin {\n",
              "    0% {\n",
              "      border-color: transparent;\n",
              "      border-bottom-color: var(--fill-color);\n",
              "      border-left-color: var(--fill-color);\n",
              "    }\n",
              "    20% {\n",
              "      border-color: transparent;\n",
              "      border-left-color: var(--fill-color);\n",
              "      border-top-color: var(--fill-color);\n",
              "    }\n",
              "    30% {\n",
              "      border-color: transparent;\n",
              "      border-left-color: var(--fill-color);\n",
              "      border-top-color: var(--fill-color);\n",
              "      border-right-color: var(--fill-color);\n",
              "    }\n",
              "    40% {\n",
              "      border-color: transparent;\n",
              "      border-right-color: var(--fill-color);\n",
              "      border-top-color: var(--fill-color);\n",
              "    }\n",
              "    60% {\n",
              "      border-color: transparent;\n",
              "      border-right-color: var(--fill-color);\n",
              "    }\n",
              "    80% {\n",
              "      border-color: transparent;\n",
              "      border-right-color: var(--fill-color);\n",
              "      border-bottom-color: var(--fill-color);\n",
              "    }\n",
              "    90% {\n",
              "      border-color: transparent;\n",
              "      border-bottom-color: var(--fill-color);\n",
              "    }\n",
              "  }\n",
              "</style>\n",
              "\n",
              "  <script>\n",
              "    async function quickchart(key) {\n",
              "      const quickchartButtonEl =\n",
              "        document.querySelector('#' + key + ' button');\n",
              "      quickchartButtonEl.disabled = true;  // To prevent multiple clicks.\n",
              "      quickchartButtonEl.classList.add('colab-df-spinner');\n",
              "      try {\n",
              "        const charts = await google.colab.kernel.invokeFunction(\n",
              "            'suggestCharts', [key], {});\n",
              "      } catch (error) {\n",
              "        console.error('Error during call to suggestCharts:', error);\n",
              "      }\n",
              "      quickchartButtonEl.classList.remove('colab-df-spinner');\n",
              "      quickchartButtonEl.classList.add('colab-df-quickchart-complete');\n",
              "    }\n",
              "    (() => {\n",
              "      let quickchartButtonEl =\n",
              "        document.querySelector('#df-29f92af3-84e4-4f5e-9791-65b71608d99d button');\n",
              "      quickchartButtonEl.style.display =\n",
              "        google.colab.kernel.accessAllowed ? 'block' : 'none';\n",
              "    })();\n",
              "  </script>\n",
              "</div>\n",
              "\n",
              "    </div>\n",
              "  </div>\n"
            ],
            "application/vnd.google.colaboratory.intrinsic+json": {
              "type": "dataframe",
              "variable_name": "data3"
            }
          },
          "metadata": {},
          "execution_count": 41
        }
      ]
    },
    {
      "cell_type": "code",
      "source": [
        "data3.isnull().sum()"
      ],
      "metadata": {
        "id": "eRZ8v8eeKVV8",
        "outputId": "2df94fee-eb1a-4049-e4b5-04e7e7fee5d6",
        "colab": {
          "base_uri": "https://localhost:8080/",
          "height": 1000
        }
      },
      "execution_count": 42,
      "outputs": [
        {
          "output_type": "execute_result",
          "data": {
            "text/plain": [
              "id                           0\n",
              "diagnosis                    0\n",
              "radius_mean                  0\n",
              "texture_mean                 0\n",
              "perimeter_mean               0\n",
              "area_mean                    0\n",
              "smoothness_mean              0\n",
              "compactness_mean             0\n",
              "concavity_mean               0\n",
              "concave points_mean          0\n",
              "symmetry_mean                0\n",
              "fractal_dimension_mean       0\n",
              "radius_se                    0\n",
              "texture_se                   0\n",
              "perimeter_se                 0\n",
              "area_se                      0\n",
              "smoothness_se                0\n",
              "compactness_se               0\n",
              "concavity_se                 0\n",
              "concave points_se            0\n",
              "symmetry_se                  0\n",
              "fractal_dimension_se         0\n",
              "radius_worst                 0\n",
              "texture_worst                0\n",
              "perimeter_worst              0\n",
              "area_worst                   0\n",
              "smoothness_worst             0\n",
              "compactness_worst            0\n",
              "concavity_worst              0\n",
              "concave points_worst         0\n",
              "symmetry_worst               0\n",
              "fractal_dimension_worst      0\n",
              "Unnamed: 32                569\n",
              "dtype: int64"
            ],
            "text/html": [
              "<div>\n",
              "<style scoped>\n",
              "    .dataframe tbody tr th:only-of-type {\n",
              "        vertical-align: middle;\n",
              "    }\n",
              "\n",
              "    .dataframe tbody tr th {\n",
              "        vertical-align: top;\n",
              "    }\n",
              "\n",
              "    .dataframe thead th {\n",
              "        text-align: right;\n",
              "    }\n",
              "</style>\n",
              "<table border=\"1\" class=\"dataframe\">\n",
              "  <thead>\n",
              "    <tr style=\"text-align: right;\">\n",
              "      <th></th>\n",
              "      <th>0</th>\n",
              "    </tr>\n",
              "  </thead>\n",
              "  <tbody>\n",
              "    <tr>\n",
              "      <th>id</th>\n",
              "      <td>0</td>\n",
              "    </tr>\n",
              "    <tr>\n",
              "      <th>diagnosis</th>\n",
              "      <td>0</td>\n",
              "    </tr>\n",
              "    <tr>\n",
              "      <th>radius_mean</th>\n",
              "      <td>0</td>\n",
              "    </tr>\n",
              "    <tr>\n",
              "      <th>texture_mean</th>\n",
              "      <td>0</td>\n",
              "    </tr>\n",
              "    <tr>\n",
              "      <th>perimeter_mean</th>\n",
              "      <td>0</td>\n",
              "    </tr>\n",
              "    <tr>\n",
              "      <th>area_mean</th>\n",
              "      <td>0</td>\n",
              "    </tr>\n",
              "    <tr>\n",
              "      <th>smoothness_mean</th>\n",
              "      <td>0</td>\n",
              "    </tr>\n",
              "    <tr>\n",
              "      <th>compactness_mean</th>\n",
              "      <td>0</td>\n",
              "    </tr>\n",
              "    <tr>\n",
              "      <th>concavity_mean</th>\n",
              "      <td>0</td>\n",
              "    </tr>\n",
              "    <tr>\n",
              "      <th>concave points_mean</th>\n",
              "      <td>0</td>\n",
              "    </tr>\n",
              "    <tr>\n",
              "      <th>symmetry_mean</th>\n",
              "      <td>0</td>\n",
              "    </tr>\n",
              "    <tr>\n",
              "      <th>fractal_dimension_mean</th>\n",
              "      <td>0</td>\n",
              "    </tr>\n",
              "    <tr>\n",
              "      <th>radius_se</th>\n",
              "      <td>0</td>\n",
              "    </tr>\n",
              "    <tr>\n",
              "      <th>texture_se</th>\n",
              "      <td>0</td>\n",
              "    </tr>\n",
              "    <tr>\n",
              "      <th>perimeter_se</th>\n",
              "      <td>0</td>\n",
              "    </tr>\n",
              "    <tr>\n",
              "      <th>area_se</th>\n",
              "      <td>0</td>\n",
              "    </tr>\n",
              "    <tr>\n",
              "      <th>smoothness_se</th>\n",
              "      <td>0</td>\n",
              "    </tr>\n",
              "    <tr>\n",
              "      <th>compactness_se</th>\n",
              "      <td>0</td>\n",
              "    </tr>\n",
              "    <tr>\n",
              "      <th>concavity_se</th>\n",
              "      <td>0</td>\n",
              "    </tr>\n",
              "    <tr>\n",
              "      <th>concave points_se</th>\n",
              "      <td>0</td>\n",
              "    </tr>\n",
              "    <tr>\n",
              "      <th>symmetry_se</th>\n",
              "      <td>0</td>\n",
              "    </tr>\n",
              "    <tr>\n",
              "      <th>fractal_dimension_se</th>\n",
              "      <td>0</td>\n",
              "    </tr>\n",
              "    <tr>\n",
              "      <th>radius_worst</th>\n",
              "      <td>0</td>\n",
              "    </tr>\n",
              "    <tr>\n",
              "      <th>texture_worst</th>\n",
              "      <td>0</td>\n",
              "    </tr>\n",
              "    <tr>\n",
              "      <th>perimeter_worst</th>\n",
              "      <td>0</td>\n",
              "    </tr>\n",
              "    <tr>\n",
              "      <th>area_worst</th>\n",
              "      <td>0</td>\n",
              "    </tr>\n",
              "    <tr>\n",
              "      <th>smoothness_worst</th>\n",
              "      <td>0</td>\n",
              "    </tr>\n",
              "    <tr>\n",
              "      <th>compactness_worst</th>\n",
              "      <td>0</td>\n",
              "    </tr>\n",
              "    <tr>\n",
              "      <th>concavity_worst</th>\n",
              "      <td>0</td>\n",
              "    </tr>\n",
              "    <tr>\n",
              "      <th>concave points_worst</th>\n",
              "      <td>0</td>\n",
              "    </tr>\n",
              "    <tr>\n",
              "      <th>symmetry_worst</th>\n",
              "      <td>0</td>\n",
              "    </tr>\n",
              "    <tr>\n",
              "      <th>fractal_dimension_worst</th>\n",
              "      <td>0</td>\n",
              "    </tr>\n",
              "    <tr>\n",
              "      <th>Unnamed: 32</th>\n",
              "      <td>569</td>\n",
              "    </tr>\n",
              "  </tbody>\n",
              "</table>\n",
              "</div><br><label><b>dtype:</b> int64</label>"
            ]
          },
          "metadata": {},
          "execution_count": 42
        }
      ]
    },
    {
      "cell_type": "code",
      "source": [
        "data3.drop('Unnamed: 32',axis=1,inplace=True)\n",
        "data3.drop('id',axis=1,inplace=True)"
      ],
      "metadata": {
        "id": "F9wfWAWgQLG5"
      },
      "execution_count": 43,
      "outputs": []
    },
    {
      "cell_type": "code",
      "source": [
        "#Cambiando variable de maligno por 0 y Benigno por 1\n",
        "\n",
        "data3['diagnosis'].replace('M',0,inplace=True)\n",
        "data3['diagnosis'].replace('B',1,inplace=True)\n"
      ],
      "metadata": {
        "id": "QZeCIQ9gItyT"
      },
      "execution_count": 44,
      "outputs": []
    },
    {
      "cell_type": "code",
      "source": [
        "#Se define\n",
        "\n",
        "X= data3.iloc[:,1:]\n",
        "y= data3.iloc[:,0]\n",
        "\n",
        "\n",
        "#Sacando el train y test\n",
        "\n",
        "X_train, X_test, y_train, y_test = train_test_split(X, y, test_size=0.6, random_state=50)\n",
        "\n",
        "#Normalizando\n",
        "\n",
        "X_trainN = tf.keras.utils.normalize(X_train)\n",
        "X_testN = tf.keras.utils.normalize(X_test)"
      ],
      "metadata": {
        "id": "HklwH8m1I3_R"
      },
      "execution_count": 45,
      "outputs": []
    },
    {
      "cell_type": "code",
      "source": [
        "model = tf.keras.models.Sequential()\n",
        "\n",
        "# Cambié la cantidad de neuronas y la función de activación en varias capas\n",
        "model.add(tf.keras.layers.Dense(256, activation=tf.nn.leaky_relu))  # Más neuronas, Leaky ReLU\n",
        "model.add(tf.keras.layers.Dense(128, activation=tf.nn.leaky_relu))  # Leaky ReLU, para evitar saturación\n",
        "model.add(tf.keras.layers.Dense(64, activation=tf.nn.elu))          # ELU en vez de tanh\n",
        "model.add(tf.keras.layers.Dense(256, activation=tf.nn.relu))        # Más neuronas\n",
        "model.add(tf.keras.layers.Dense(1, activation=tf.nn.sigmoid))       # La capa de salida sigue con activación sigmoid\n",
        "\n",
        "# Compilamos el modelo para que esté listo para entrenar\n",
        "model.compile(optimizer='adam',\n",
        "              loss='binary_crossentropy',\n",
        "              metrics=['accuracy'])\n"
      ],
      "metadata": {
        "id": "KlNh2wiuJAeO"
      },
      "execution_count": 46,
      "outputs": []
    },
    {
      "cell_type": "code",
      "source": [
        "#Se modifica LR para ver cambios\n",
        "\n",
        "\n",
        "opt = tf.keras.optimizers.Adam(learning_rate=0.0001)\n",
        "\n",
        "\n",
        "model.compile(optimizer=opt,\n",
        "              loss='binary_crossentropy',\n",
        "              metrics=['accuracy'])"
      ],
      "metadata": {
        "id": "QOY3gvcOKosz"
      },
      "execution_count": 47,
      "outputs": []
    },
    {
      "cell_type": "code",
      "source": [
        "history = model.fit(X_trainN, y_train, epochs=70,batch_size=16)"
      ],
      "metadata": {
        "id": "tZQLGALmKYdE",
        "outputId": "f653fe1c-1c6b-46f8-dd12-65e624298942",
        "colab": {
          "base_uri": "https://localhost:8080/"
        }
      },
      "execution_count": 48,
      "outputs": [
        {
          "output_type": "stream",
          "name": "stdout",
          "text": [
            "Epoch 1/70\n",
            "\u001b[1m15/15\u001b[0m \u001b[32m━━━━━━━━━━━━━━━━━━━━\u001b[0m\u001b[37m\u001b[0m \u001b[1m2s\u001b[0m 2ms/step - accuracy: 0.6226 - loss: 0.6856\n",
            "Epoch 2/70\n",
            "\u001b[1m15/15\u001b[0m \u001b[32m━━━━━━━━━━━━━━━━━━━━\u001b[0m\u001b[37m\u001b[0m \u001b[1m0s\u001b[0m 2ms/step - accuracy: 0.6914 - loss: 0.6628 \n",
            "Epoch 3/70\n",
            "\u001b[1m15/15\u001b[0m \u001b[32m━━━━━━━━━━━━━━━━━━━━\u001b[0m\u001b[37m\u001b[0m \u001b[1m0s\u001b[0m 2ms/step - accuracy: 0.6208 - loss: 0.6638 \n",
            "Epoch 4/70\n",
            "\u001b[1m15/15\u001b[0m \u001b[32m━━━━━━━━━━━━━━━━━━━━\u001b[0m\u001b[37m\u001b[0m \u001b[1m0s\u001b[0m 2ms/step - accuracy: 0.6217 - loss: 0.6582 \n",
            "Epoch 5/70\n",
            "\u001b[1m15/15\u001b[0m \u001b[32m━━━━━━━━━━━━━━━━━━━━\u001b[0m\u001b[37m\u001b[0m \u001b[1m0s\u001b[0m 2ms/step - accuracy: 0.6316 - loss: 0.6495 \n",
            "Epoch 6/70\n",
            "\u001b[1m15/15\u001b[0m \u001b[32m━━━━━━━━━━━━━━━━━━━━\u001b[0m\u001b[37m\u001b[0m \u001b[1m0s\u001b[0m 3ms/step - accuracy: 0.6633 - loss: 0.6285  \n",
            "Epoch 7/70\n",
            "\u001b[1m15/15\u001b[0m \u001b[32m━━━━━━━━━━━━━━━━━━━━\u001b[0m\u001b[37m\u001b[0m \u001b[1m0s\u001b[0m 3ms/step - accuracy: 0.6237 - loss: 0.6476  \n",
            "Epoch 8/70\n",
            "\u001b[1m15/15\u001b[0m \u001b[32m━━━━━━━━━━━━━━━━━━━━\u001b[0m\u001b[37m\u001b[0m \u001b[1m0s\u001b[0m 2ms/step - accuracy: 0.6384 - loss: 0.6325 \n",
            "Epoch 9/70\n",
            "\u001b[1m15/15\u001b[0m \u001b[32m━━━━━━━━━━━━━━━━━━━━\u001b[0m\u001b[37m\u001b[0m \u001b[1m0s\u001b[0m 2ms/step - accuracy: 0.6432 - loss: 0.6277 \n",
            "Epoch 10/70\n",
            "\u001b[1m15/15\u001b[0m \u001b[32m━━━━━━━━━━━━━━━━━━━━\u001b[0m\u001b[37m\u001b[0m \u001b[1m0s\u001b[0m 2ms/step - accuracy: 0.6055 - loss: 0.6454  \n",
            "Epoch 11/70\n",
            "\u001b[1m15/15\u001b[0m \u001b[32m━━━━━━━━━━━━━━━━━━━━\u001b[0m\u001b[37m\u001b[0m \u001b[1m0s\u001b[0m 2ms/step - accuracy: 0.6432 - loss: 0.6111  \n",
            "Epoch 12/70\n",
            "\u001b[1m15/15\u001b[0m \u001b[32m━━━━━━━━━━━━━━━━━━━━\u001b[0m\u001b[37m\u001b[0m \u001b[1m0s\u001b[0m 2ms/step - accuracy: 0.6496 - loss: 0.5995 \n",
            "Epoch 13/70\n",
            "\u001b[1m15/15\u001b[0m \u001b[32m━━━━━━━━━━━━━━━━━━━━\u001b[0m\u001b[37m\u001b[0m \u001b[1m0s\u001b[0m 2ms/step - accuracy: 0.6581 - loss: 0.5896 \n",
            "Epoch 14/70\n",
            "\u001b[1m15/15\u001b[0m \u001b[32m━━━━━━━━━━━━━━━━━━━━\u001b[0m\u001b[37m\u001b[0m \u001b[1m0s\u001b[0m 2ms/step - accuracy: 0.6242 - loss: 0.5931 \n",
            "Epoch 15/70\n",
            "\u001b[1m15/15\u001b[0m \u001b[32m━━━━━━━━━━━━━━━━━━━━\u001b[0m\u001b[37m\u001b[0m \u001b[1m0s\u001b[0m 2ms/step - accuracy: 0.6884 - loss: 0.5512 \n",
            "Epoch 16/70\n",
            "\u001b[1m15/15\u001b[0m \u001b[32m━━━━━━━━━━━━━━━━━━━━\u001b[0m\u001b[37m\u001b[0m \u001b[1m0s\u001b[0m 2ms/step - accuracy: 0.7068 - loss: 0.5239 \n",
            "Epoch 17/70\n",
            "\u001b[1m15/15\u001b[0m \u001b[32m━━━━━━━━━━━━━━━━━━━━\u001b[0m\u001b[37m\u001b[0m \u001b[1m0s\u001b[0m 2ms/step - accuracy: 0.7502 - loss: 0.5003 \n",
            "Epoch 18/70\n",
            "\u001b[1m15/15\u001b[0m \u001b[32m━━━━━━━━━━━━━━━━━━━━\u001b[0m\u001b[37m\u001b[0m \u001b[1m0s\u001b[0m 2ms/step - accuracy: 0.7568 - loss: 0.4933 \n",
            "Epoch 19/70\n",
            "\u001b[1m15/15\u001b[0m \u001b[32m━━━━━━━━━━━━━━━━━━━━\u001b[0m\u001b[37m\u001b[0m \u001b[1m0s\u001b[0m 3ms/step - accuracy: 0.8370 - loss: 0.4605 \n",
            "Epoch 20/70\n",
            "\u001b[1m15/15\u001b[0m \u001b[32m━━━━━━━━━━━━━━━━━━━━\u001b[0m\u001b[37m\u001b[0m \u001b[1m0s\u001b[0m 3ms/step - accuracy: 0.8957 - loss: 0.4653 \n",
            "Epoch 21/70\n",
            "\u001b[1m15/15\u001b[0m \u001b[32m━━━━━━━━━━━━━━━━━━━━\u001b[0m\u001b[37m\u001b[0m \u001b[1m0s\u001b[0m 2ms/step - accuracy: 0.8502 - loss: 0.4524 \n",
            "Epoch 22/70\n",
            "\u001b[1m15/15\u001b[0m \u001b[32m━━━━━━━━━━━━━━━━━━━━\u001b[0m\u001b[37m\u001b[0m \u001b[1m0s\u001b[0m 2ms/step - accuracy: 0.8534 - loss: 0.3938 \n",
            "Epoch 23/70\n",
            "\u001b[1m15/15\u001b[0m \u001b[32m━━━━━━━━━━━━━━━━━━━━\u001b[0m\u001b[37m\u001b[0m \u001b[1m0s\u001b[0m 2ms/step - accuracy: 0.9187 - loss: 0.3592  \n",
            "Epoch 24/70\n",
            "\u001b[1m15/15\u001b[0m \u001b[32m━━━━━━━━━━━━━━━━━━━━\u001b[0m\u001b[37m\u001b[0m \u001b[1m0s\u001b[0m 2ms/step - accuracy: 0.9033 - loss: 0.3564 \n",
            "Epoch 25/70\n",
            "\u001b[1m15/15\u001b[0m \u001b[32m━━━━━━━━━━━━━━━━━━━━\u001b[0m\u001b[37m\u001b[0m \u001b[1m0s\u001b[0m 2ms/step - accuracy: 0.8974 - loss: 0.3291 \n",
            "Epoch 26/70\n",
            "\u001b[1m15/15\u001b[0m \u001b[32m━━━━━━━━━━━━━━━━━━━━\u001b[0m\u001b[37m\u001b[0m \u001b[1m0s\u001b[0m 2ms/step - accuracy: 0.9181 - loss: 0.3033 \n",
            "Epoch 27/70\n",
            "\u001b[1m15/15\u001b[0m \u001b[32m━━━━━━━━━━━━━━━━━━━━\u001b[0m\u001b[37m\u001b[0m \u001b[1m0s\u001b[0m 2ms/step - accuracy: 0.8851 - loss: 0.3211 \n",
            "Epoch 28/70\n",
            "\u001b[1m15/15\u001b[0m \u001b[32m━━━━━━━━━━━━━━━━━━━━\u001b[0m\u001b[37m\u001b[0m \u001b[1m0s\u001b[0m 2ms/step - accuracy: 0.8966 - loss: 0.3017 \n",
            "Epoch 29/70\n",
            "\u001b[1m15/15\u001b[0m \u001b[32m━━━━━━━━━━━━━━━━━━━━\u001b[0m\u001b[37m\u001b[0m \u001b[1m0s\u001b[0m 2ms/step - accuracy: 0.9065 - loss: 0.2665 \n",
            "Epoch 30/70\n",
            "\u001b[1m15/15\u001b[0m \u001b[32m━━━━━━━━━━━━━━━━━━━━\u001b[0m\u001b[37m\u001b[0m \u001b[1m0s\u001b[0m 3ms/step - accuracy: 0.8932 - loss: 0.3149  \n",
            "Epoch 31/70\n",
            "\u001b[1m15/15\u001b[0m \u001b[32m━━━━━━━━━━━━━━━━━━━━\u001b[0m\u001b[37m\u001b[0m \u001b[1m0s\u001b[0m 2ms/step - accuracy: 0.9208 - loss: 0.2725 \n",
            "Epoch 32/70\n",
            "\u001b[1m15/15\u001b[0m \u001b[32m━━━━━━━━━━━━━━━━━━━━\u001b[0m\u001b[37m\u001b[0m \u001b[1m0s\u001b[0m 3ms/step - accuracy: 0.9287 - loss: 0.2278 \n",
            "Epoch 33/70\n",
            "\u001b[1m15/15\u001b[0m \u001b[32m━━━━━━━━━━━━━━━━━━━━\u001b[0m\u001b[37m\u001b[0m \u001b[1m0s\u001b[0m 4ms/step - accuracy: 0.9171 - loss: 0.2559\n",
            "Epoch 34/70\n",
            "\u001b[1m15/15\u001b[0m \u001b[32m━━━━━━━━━━━━━━━━━━━━\u001b[0m\u001b[37m\u001b[0m \u001b[1m0s\u001b[0m 3ms/step - accuracy: 0.9140 - loss: 0.2472 \n",
            "Epoch 35/70\n",
            "\u001b[1m15/15\u001b[0m \u001b[32m━━━━━━━━━━━━━━━━━━━━\u001b[0m\u001b[37m\u001b[0m \u001b[1m0s\u001b[0m 3ms/step - accuracy: 0.9251 - loss: 0.2431 \n",
            "Epoch 36/70\n",
            "\u001b[1m15/15\u001b[0m \u001b[32m━━━━━━━━━━━━━━━━━━━━\u001b[0m\u001b[37m\u001b[0m \u001b[1m0s\u001b[0m 4ms/step - accuracy: 0.9229 - loss: 0.2219\n",
            "Epoch 37/70\n",
            "\u001b[1m15/15\u001b[0m \u001b[32m━━━━━━━━━━━━━━━━━━━━\u001b[0m\u001b[37m\u001b[0m \u001b[1m0s\u001b[0m 3ms/step - accuracy: 0.9366 - loss: 0.2214 \n",
            "Epoch 38/70\n",
            "\u001b[1m15/15\u001b[0m \u001b[32m━━━━━━━━━━━━━━━━━━━━\u001b[0m\u001b[37m\u001b[0m \u001b[1m0s\u001b[0m 4ms/step - accuracy: 0.9200 - loss: 0.2186\n",
            "Epoch 39/70\n",
            "\u001b[1m15/15\u001b[0m \u001b[32m━━━━━━━━━━━━━━━━━━━━\u001b[0m\u001b[37m\u001b[0m \u001b[1m0s\u001b[0m 3ms/step - accuracy: 0.9095 - loss: 0.2398 \n",
            "Epoch 40/70\n",
            "\u001b[1m15/15\u001b[0m \u001b[32m━━━━━━━━━━━━━━━━━━━━\u001b[0m\u001b[37m\u001b[0m \u001b[1m0s\u001b[0m 4ms/step - accuracy: 0.8866 - loss: 0.2997\n",
            "Epoch 41/70\n",
            "\u001b[1m15/15\u001b[0m \u001b[32m━━━━━━━━━━━━━━━━━━━━\u001b[0m\u001b[37m\u001b[0m \u001b[1m0s\u001b[0m 5ms/step - accuracy: 0.9185 - loss: 0.2123\n",
            "Epoch 42/70\n",
            "\u001b[1m15/15\u001b[0m \u001b[32m━━━━━━━━━━━━━━━━━━━━\u001b[0m\u001b[37m\u001b[0m \u001b[1m0s\u001b[0m 5ms/step - accuracy: 0.9198 - loss: 0.2333\n",
            "Epoch 43/70\n",
            "\u001b[1m15/15\u001b[0m \u001b[32m━━━━━━━━━━━━━━━━━━━━\u001b[0m\u001b[37m\u001b[0m \u001b[1m0s\u001b[0m 3ms/step - accuracy: 0.9112 - loss: 0.2298 \n",
            "Epoch 44/70\n",
            "\u001b[1m15/15\u001b[0m \u001b[32m━━━━━━━━━━━━━━━━━━━━\u001b[0m\u001b[37m\u001b[0m \u001b[1m0s\u001b[0m 4ms/step - accuracy: 0.9283 - loss: 0.2244 \n",
            "Epoch 45/70\n",
            "\u001b[1m15/15\u001b[0m \u001b[32m━━━━━━━━━━━━━━━━━━━━\u001b[0m\u001b[37m\u001b[0m \u001b[1m0s\u001b[0m 5ms/step - accuracy: 0.9124 - loss: 0.2345\n",
            "Epoch 46/70\n",
            "\u001b[1m15/15\u001b[0m \u001b[32m━━━━━━━━━━━━━━━━━━━━\u001b[0m\u001b[37m\u001b[0m \u001b[1m0s\u001b[0m 3ms/step - accuracy: 0.9162 - loss: 0.2362 \n",
            "Epoch 47/70\n",
            "\u001b[1m15/15\u001b[0m \u001b[32m━━━━━━━━━━━━━━━━━━━━\u001b[0m\u001b[37m\u001b[0m \u001b[1m0s\u001b[0m 6ms/step - accuracy: 0.9297 - loss: 0.2188\n",
            "Epoch 48/70\n",
            "\u001b[1m15/15\u001b[0m \u001b[32m━━━━━━━━━━━━━━━━━━━━\u001b[0m\u001b[37m\u001b[0m \u001b[1m0s\u001b[0m 4ms/step - accuracy: 0.8972 - loss: 0.2550 \n",
            "Epoch 49/70\n",
            "\u001b[1m15/15\u001b[0m \u001b[32m━━━━━━━━━━━━━━━━━━━━\u001b[0m\u001b[37m\u001b[0m \u001b[1m0s\u001b[0m 4ms/step - accuracy: 0.9384 - loss: 0.1937 \n",
            "Epoch 50/70\n",
            "\u001b[1m15/15\u001b[0m \u001b[32m━━━━━━━━━━━━━━━━━━━━\u001b[0m\u001b[37m\u001b[0m \u001b[1m0s\u001b[0m 5ms/step - accuracy: 0.9036 - loss: 0.2474\n",
            "Epoch 51/70\n",
            "\u001b[1m15/15\u001b[0m \u001b[32m━━━━━━━━━━━━━━━━━━━━\u001b[0m\u001b[37m\u001b[0m \u001b[1m0s\u001b[0m 3ms/step - accuracy: 0.9420 - loss: 0.2121 \n",
            "Epoch 52/70\n",
            "\u001b[1m15/15\u001b[0m \u001b[32m━━━━━━━━━━━━━━━━━━━━\u001b[0m\u001b[37m\u001b[0m \u001b[1m0s\u001b[0m 5ms/step - accuracy: 0.8854 - loss: 0.2851\n",
            "Epoch 53/70\n",
            "\u001b[1m15/15\u001b[0m \u001b[32m━━━━━━━━━━━━━━━━━━━━\u001b[0m\u001b[37m\u001b[0m \u001b[1m0s\u001b[0m 3ms/step - accuracy: 0.8930 - loss: 0.2610 \n",
            "Epoch 54/70\n",
            "\u001b[1m15/15\u001b[0m \u001b[32m━━━━━━━━━━━━━━━━━━━━\u001b[0m\u001b[37m\u001b[0m \u001b[1m0s\u001b[0m 5ms/step - accuracy: 0.9102 - loss: 0.2299\n",
            "Epoch 55/70\n",
            "\u001b[1m15/15\u001b[0m \u001b[32m━━━━━━━━━━━━━━━━━━━━\u001b[0m\u001b[37m\u001b[0m \u001b[1m0s\u001b[0m 3ms/step - accuracy: 0.9297 - loss: 0.2022 \n",
            "Epoch 56/70\n",
            "\u001b[1m15/15\u001b[0m \u001b[32m━━━━━━━━━━━━━━━━━━━━\u001b[0m\u001b[37m\u001b[0m \u001b[1m0s\u001b[0m 4ms/step - accuracy: 0.9431 - loss: 0.1738 \n",
            "Epoch 57/70\n",
            "\u001b[1m15/15\u001b[0m \u001b[32m━━━━━━━━━━━━━━━━━━━━\u001b[0m\u001b[37m\u001b[0m \u001b[1m0s\u001b[0m 3ms/step - accuracy: 0.9120 - loss: 0.2229 \n",
            "Epoch 58/70\n",
            "\u001b[1m15/15\u001b[0m \u001b[32m━━━━━━━━━━━━━━━━━━━━\u001b[0m\u001b[37m\u001b[0m \u001b[1m0s\u001b[0m 4ms/step - accuracy: 0.9269 - loss: 0.1928 \n",
            "Epoch 59/70\n",
            "\u001b[1m15/15\u001b[0m \u001b[32m━━━━━━━━━━━━━━━━━━━━\u001b[0m\u001b[37m\u001b[0m \u001b[1m0s\u001b[0m 4ms/step - accuracy: 0.9147 - loss: 0.2261 \n",
            "Epoch 60/70\n",
            "\u001b[1m15/15\u001b[0m \u001b[32m━━━━━━━━━━━━━━━━━━━━\u001b[0m\u001b[37m\u001b[0m \u001b[1m0s\u001b[0m 4ms/step - accuracy: 0.9318 - loss: 0.2237\n",
            "Epoch 61/70\n",
            "\u001b[1m15/15\u001b[0m \u001b[32m━━━━━━━━━━━━━━━━━━━━\u001b[0m\u001b[37m\u001b[0m \u001b[1m0s\u001b[0m 4ms/step - accuracy: 0.9410 - loss: 0.2109\n",
            "Epoch 62/70\n",
            "\u001b[1m15/15\u001b[0m \u001b[32m━━━━━━━━━━━━━━━━━━━━\u001b[0m\u001b[37m\u001b[0m \u001b[1m0s\u001b[0m 6ms/step - accuracy: 0.9252 - loss: 0.2346\n",
            "Epoch 63/70\n",
            "\u001b[1m15/15\u001b[0m \u001b[32m━━━━━━━━━━━━━━━━━━━━\u001b[0m\u001b[37m\u001b[0m \u001b[1m0s\u001b[0m 2ms/step - accuracy: 0.9135 - loss: 0.2322 \n",
            "Epoch 64/70\n",
            "\u001b[1m15/15\u001b[0m \u001b[32m━━━━━━━━━━━━━━━━━━━━\u001b[0m\u001b[37m\u001b[0m \u001b[1m0s\u001b[0m 2ms/step - accuracy: 0.8868 - loss: 0.2837 \n",
            "Epoch 65/70\n",
            "\u001b[1m15/15\u001b[0m \u001b[32m━━━━━━━━━━━━━━━━━━━━\u001b[0m\u001b[37m\u001b[0m \u001b[1m0s\u001b[0m 2ms/step - accuracy: 0.9223 - loss: 0.2319 \n",
            "Epoch 66/70\n",
            "\u001b[1m15/15\u001b[0m \u001b[32m━━━━━━━━━━━━━━━━━━━━\u001b[0m\u001b[37m\u001b[0m \u001b[1m0s\u001b[0m 3ms/step - accuracy: 0.8941 - loss: 0.2566 \n",
            "Epoch 67/70\n",
            "\u001b[1m15/15\u001b[0m \u001b[32m━━━━━━━━━━━━━━━━━━━━\u001b[0m\u001b[37m\u001b[0m \u001b[1m0s\u001b[0m 2ms/step - accuracy: 0.9127 - loss: 0.2478 \n",
            "Epoch 68/70\n",
            "\u001b[1m15/15\u001b[0m \u001b[32m━━━━━━━━━━━━━━━━━━━━\u001b[0m\u001b[37m\u001b[0m \u001b[1m0s\u001b[0m 2ms/step - accuracy: 0.9253 - loss: 0.1955  \n",
            "Epoch 69/70\n",
            "\u001b[1m15/15\u001b[0m \u001b[32m━━━━━━━━━━━━━━━━━━━━\u001b[0m\u001b[37m\u001b[0m \u001b[1m0s\u001b[0m 2ms/step - accuracy: 0.9289 - loss: 0.1966  \n",
            "Epoch 70/70\n",
            "\u001b[1m15/15\u001b[0m \u001b[32m━━━━━━━━━━━━━━━━━━━━\u001b[0m\u001b[37m\u001b[0m \u001b[1m0s\u001b[0m 2ms/step - accuracy: 0.9364 - loss: 0.1891  \n"
          ]
        }
      ]
    },
    {
      "cell_type": "code",
      "source": [
        "model.summary()"
      ],
      "metadata": {
        "id": "lTvNFyuFK3Dd",
        "outputId": "c9469735-9375-4413-ec97-814c887cba0d",
        "colab": {
          "base_uri": "https://localhost:8080/",
          "height": 305
        }
      },
      "execution_count": 49,
      "outputs": [
        {
          "output_type": "display_data",
          "data": {
            "text/plain": [
              "\u001b[1mModel: \"sequential_4\"\u001b[0m\n"
            ],
            "text/html": [
              "<pre style=\"white-space:pre;overflow-x:auto;line-height:normal;font-family:Menlo,'DejaVu Sans Mono',consolas,'Courier New',monospace\"><span style=\"font-weight: bold\">Model: \"sequential_4\"</span>\n",
              "</pre>\n"
            ]
          },
          "metadata": {}
        },
        {
          "output_type": "display_data",
          "data": {
            "text/plain": [
              "┏━━━━━━━━━━━━━━━━━━━━━━━━━━━━━━━━━━━━━━┳━━━━━━━━━━━━━━━━━━━━━━━━━━━━━┳━━━━━━━━━━━━━━━━━┓\n",
              "┃\u001b[1m \u001b[0m\u001b[1mLayer (type)                        \u001b[0m\u001b[1m \u001b[0m┃\u001b[1m \u001b[0m\u001b[1mOutput Shape               \u001b[0m\u001b[1m \u001b[0m┃\u001b[1m \u001b[0m\u001b[1m        Param #\u001b[0m\u001b[1m \u001b[0m┃\n",
              "┡━━━━━━━━━━━━━━━━━━━━━━━━━━━━━━━━━━━━━━╇━━━━━━━━━━━━━━━━━━━━━━━━━━━━━╇━━━━━━━━━━━━━━━━━┩\n",
              "│ dense_20 (\u001b[38;5;33mDense\u001b[0m)                     │ (\u001b[38;5;45mNone\u001b[0m, \u001b[38;5;34m256\u001b[0m)                 │           \u001b[38;5;34m7,936\u001b[0m │\n",
              "├──────────────────────────────────────┼─────────────────────────────┼─────────────────┤\n",
              "│ dense_21 (\u001b[38;5;33mDense\u001b[0m)                     │ (\u001b[38;5;45mNone\u001b[0m, \u001b[38;5;34m128\u001b[0m)                 │          \u001b[38;5;34m32,896\u001b[0m │\n",
              "├──────────────────────────────────────┼─────────────────────────────┼─────────────────┤\n",
              "│ dense_22 (\u001b[38;5;33mDense\u001b[0m)                     │ (\u001b[38;5;45mNone\u001b[0m, \u001b[38;5;34m64\u001b[0m)                  │           \u001b[38;5;34m8,256\u001b[0m │\n",
              "├──────────────────────────────────────┼─────────────────────────────┼─────────────────┤\n",
              "│ dense_23 (\u001b[38;5;33mDense\u001b[0m)                     │ (\u001b[38;5;45mNone\u001b[0m, \u001b[38;5;34m256\u001b[0m)                 │          \u001b[38;5;34m16,640\u001b[0m │\n",
              "├──────────────────────────────────────┼─────────────────────────────┼─────────────────┤\n",
              "│ dense_24 (\u001b[38;5;33mDense\u001b[0m)                     │ (\u001b[38;5;45mNone\u001b[0m, \u001b[38;5;34m1\u001b[0m)                   │             \u001b[38;5;34m257\u001b[0m │\n",
              "└──────────────────────────────────────┴─────────────────────────────┴─────────────────┘\n"
            ],
            "text/html": [
              "<pre style=\"white-space:pre;overflow-x:auto;line-height:normal;font-family:Menlo,'DejaVu Sans Mono',consolas,'Courier New',monospace\">┏━━━━━━━━━━━━━━━━━━━━━━━━━━━━━━━━━━━━━━┳━━━━━━━━━━━━━━━━━━━━━━━━━━━━━┳━━━━━━━━━━━━━━━━━┓\n",
              "┃<span style=\"font-weight: bold\"> Layer (type)                         </span>┃<span style=\"font-weight: bold\"> Output Shape                </span>┃<span style=\"font-weight: bold\">         Param # </span>┃\n",
              "┡━━━━━━━━━━━━━━━━━━━━━━━━━━━━━━━━━━━━━━╇━━━━━━━━━━━━━━━━━━━━━━━━━━━━━╇━━━━━━━━━━━━━━━━━┩\n",
              "│ dense_20 (<span style=\"color: #0087ff; text-decoration-color: #0087ff\">Dense</span>)                     │ (<span style=\"color: #00d7ff; text-decoration-color: #00d7ff\">None</span>, <span style=\"color: #00af00; text-decoration-color: #00af00\">256</span>)                 │           <span style=\"color: #00af00; text-decoration-color: #00af00\">7,936</span> │\n",
              "├──────────────────────────────────────┼─────────────────────────────┼─────────────────┤\n",
              "│ dense_21 (<span style=\"color: #0087ff; text-decoration-color: #0087ff\">Dense</span>)                     │ (<span style=\"color: #00d7ff; text-decoration-color: #00d7ff\">None</span>, <span style=\"color: #00af00; text-decoration-color: #00af00\">128</span>)                 │          <span style=\"color: #00af00; text-decoration-color: #00af00\">32,896</span> │\n",
              "├──────────────────────────────────────┼─────────────────────────────┼─────────────────┤\n",
              "│ dense_22 (<span style=\"color: #0087ff; text-decoration-color: #0087ff\">Dense</span>)                     │ (<span style=\"color: #00d7ff; text-decoration-color: #00d7ff\">None</span>, <span style=\"color: #00af00; text-decoration-color: #00af00\">64</span>)                  │           <span style=\"color: #00af00; text-decoration-color: #00af00\">8,256</span> │\n",
              "├──────────────────────────────────────┼─────────────────────────────┼─────────────────┤\n",
              "│ dense_23 (<span style=\"color: #0087ff; text-decoration-color: #0087ff\">Dense</span>)                     │ (<span style=\"color: #00d7ff; text-decoration-color: #00d7ff\">None</span>, <span style=\"color: #00af00; text-decoration-color: #00af00\">256</span>)                 │          <span style=\"color: #00af00; text-decoration-color: #00af00\">16,640</span> │\n",
              "├──────────────────────────────────────┼─────────────────────────────┼─────────────────┤\n",
              "│ dense_24 (<span style=\"color: #0087ff; text-decoration-color: #0087ff\">Dense</span>)                     │ (<span style=\"color: #00d7ff; text-decoration-color: #00d7ff\">None</span>, <span style=\"color: #00af00; text-decoration-color: #00af00\">1</span>)                   │             <span style=\"color: #00af00; text-decoration-color: #00af00\">257</span> │\n",
              "└──────────────────────────────────────┴─────────────────────────────┴─────────────────┘\n",
              "</pre>\n"
            ]
          },
          "metadata": {}
        },
        {
          "output_type": "display_data",
          "data": {
            "text/plain": [
              "\u001b[1m Total params: \u001b[0m\u001b[38;5;34m197,957\u001b[0m (773.27 KB)\n"
            ],
            "text/html": [
              "<pre style=\"white-space:pre;overflow-x:auto;line-height:normal;font-family:Menlo,'DejaVu Sans Mono',consolas,'Courier New',monospace\"><span style=\"font-weight: bold\"> Total params: </span><span style=\"color: #00af00; text-decoration-color: #00af00\">197,957</span> (773.27 KB)\n",
              "</pre>\n"
            ]
          },
          "metadata": {}
        },
        {
          "output_type": "display_data",
          "data": {
            "text/plain": [
              "\u001b[1m Trainable params: \u001b[0m\u001b[38;5;34m65,985\u001b[0m (257.75 KB)\n"
            ],
            "text/html": [
              "<pre style=\"white-space:pre;overflow-x:auto;line-height:normal;font-family:Menlo,'DejaVu Sans Mono',consolas,'Courier New',monospace\"><span style=\"font-weight: bold\"> Trainable params: </span><span style=\"color: #00af00; text-decoration-color: #00af00\">65,985</span> (257.75 KB)\n",
              "</pre>\n"
            ]
          },
          "metadata": {}
        },
        {
          "output_type": "display_data",
          "data": {
            "text/plain": [
              "\u001b[1m Non-trainable params: \u001b[0m\u001b[38;5;34m0\u001b[0m (0.00 B)\n"
            ],
            "text/html": [
              "<pre style=\"white-space:pre;overflow-x:auto;line-height:normal;font-family:Menlo,'DejaVu Sans Mono',consolas,'Courier New',monospace\"><span style=\"font-weight: bold\"> Non-trainable params: </span><span style=\"color: #00af00; text-decoration-color: #00af00\">0</span> (0.00 B)\n",
              "</pre>\n"
            ]
          },
          "metadata": {}
        },
        {
          "output_type": "display_data",
          "data": {
            "text/plain": [
              "\u001b[1m Optimizer params: \u001b[0m\u001b[38;5;34m131,972\u001b[0m (515.52 KB)\n"
            ],
            "text/html": [
              "<pre style=\"white-space:pre;overflow-x:auto;line-height:normal;font-family:Menlo,'DejaVu Sans Mono',consolas,'Courier New',monospace\"><span style=\"font-weight: bold\"> Optimizer params: </span><span style=\"color: #00af00; text-decoration-color: #00af00\">131,972</span> (515.52 KB)\n",
              "</pre>\n"
            ]
          },
          "metadata": {}
        }
      ]
    },
    {
      "cell_type": "code",
      "source": [
        "plt.xlabel(\"# Epoch\");\n",
        "plt.ylabel(\"Loss\");\n",
        "plt.plot(history.history[\"loss\"]);"
      ],
      "metadata": {
        "id": "p_64q6_pK9FI",
        "outputId": "5f3114d9-7a0f-47aa-ab42-2a397ff4c3d7",
        "colab": {
          "base_uri": "https://localhost:8080/",
          "height": 452
        }
      },
      "execution_count": 50,
      "outputs": [
        {
          "output_type": "display_data",
          "data": {
            "text/plain": [
              "<Figure size 640x480 with 1 Axes>"
            ],
            "image/png": "[encoded data removed]"
          },
          "metadata": {}
        }
      ]
    },
    {
      "cell_type": "code",
      "source": [
        "plt.xlabel(\"# Epoch\");\n",
        "plt.ylabel(\"Acc\");\n",
        "plt.plot(history.history['accuracy']);"
      ],
      "metadata": {
        "id": "zehTzCWFLAl3",
        "outputId": "011c5472-ce4e-45dd-9ddf-fdf0c6582e85",
        "colab": {
          "base_uri": "https://localhost:8080/",
          "height": 449
        }
      },
      "execution_count": 51,
      "outputs": [
        {
          "output_type": "display_data",
          "data": {
            "text/plain": [
              "<Figure size 640x480 with 1 Axes>"
            ],
            "image/png": "[encoded data removed]"
          },
          "metadata": {}
        }
      ]
    },
    {
      "cell_type": "code",
      "source": [
        "test_loss, test_acc = model.evaluate(X_testN, y_test)"
      ],
      "metadata": {
        "id": "un09XekjLDng",
        "outputId": "1086e6b0-ed7e-42f8-fa49-6013997c082d",
        "colab": {
          "base_uri": "https://localhost:8080/"
        }
      },
      "execution_count": 52,
      "outputs": [
        {
          "output_type": "stream",
          "name": "stdout",
          "text": [
            "\u001b[1m11/11\u001b[0m \u001b[32m━━━━━━━━━━━━━━━━━━━━\u001b[0m\u001b[37m\u001b[0m \u001b[1m0s\u001b[0m 2ms/step - accuracy: 0.9145 - loss: 0.2138  \n"
          ]
        }
      ]
    },
    {
      "cell_type": "code",
      "source": [
        "model.save('/content/drive/MyDrive/AI-2/Taller_1/modelo_punto3.h5')"
      ],
      "metadata": {
        "id": "8NHp4WLsLLls",
        "outputId": "7efa6f0b-ea07-4c96-a8cb-6f00004ff624",
        "colab": {
          "base_uri": "https://localhost:8080/"
        }
      },
      "execution_count": 58,
      "outputs": [
        {
          "output_type": "stream",
          "name": "stderr",
          "text": [
            "WARNING:absl:You are saving your model as an HDF5 file via `model.save()` or `keras.saving.save_model(model)`. This file format is considered legacy. We recommend using instead the native Keras format, e.g. `model.save('my_model.keras')` or `keras.saving.save_model(model, 'my_model.keras')`. \n"
          ]
        }
      ]
    },
    {
      "cell_type": "code",
      "source": [
        "import os\n",
        "print(os.listdir())\n"
      ],
      "metadata": {
        "colab": {
          "base_uri": "https://localhost:8080/"
        },
        "id": "AGLzpZ0FS2rU",
        "outputId": "921f0977-ca04-4524-ab6e-0e6452b9efa7"
      },
      "execution_count": 59,
      "outputs": [
        {
          "output_type": "stream",
          "name": "stdout",
          "text": [
            "['3D83CA9C-74A7-4977-A3BD-6EA5AFE36F8D.jpeg', 'Ceremonia de Graduación del programa de Medicina UPTC.mp4', 'POSTER FINAL .pdf', 'POSTER FINAL 2021.pdf', 'PC NUEVO 22', 'Untitled0.ipynb', 'como grabar pc windows 10 - Buscar con Google y 7 páginas más - Perfil 1_ Microsoft\\u200b Edge 2022-02-05 11-26-37.mp4', 'Cómo grabar la pantalla en Windows 10 sin programas _ Tecnología - ComputerHoy.com y 7 páginas más - Perfil 1_ Microsoft\\u200b Edge 2022-02-05 11-28-38.mp4', 'Tales of  freedom.gform', 'TRABAJO 1 REDES.gdoc', 'INFERENCIA.ipynb', 'Untitled1.ipynb', 'CORRELACION.ipynb', 'Avance Redes 1.gslides', 'Fase2_Grupo0xx.gdoc', 'Apuntes Simulacion.gdoc', 'Trabajo 1 Simulacion.gdoc', 'Apuntes Paralelo.gdoc', 'TRABAJO 3 SIMLUACION.gdoc', 'TRABAJO 4 SIMULACION 30 03 23.gdoc', 'Funcion de sierra.ipynb', 'LISTOS.rar', 'Untitled2.ipynb', 'Untitled3.ipynb', 'Untitled4.ipynb', 'Untitled5.ipynb', 'Untitled6.ipynb', 'PROYECTO SIMULACIÓN DIGITAL 2023-1.gslides', 'Fechas importantes UIS y asistencia a clases .gdoc', 'PROYECTO SIMULACION 2023-1.gdoc', '202337120_120 (1).ipynb', '202337120_107.ipynb', '\\t202337120_19.ipynb', '202337120_120.ipynb', '202337120_13.ipynb', '202337120_168.ipynb', 'Apuntes Redes 1.gdoc', 'CDIO JACK.mp4', 'Presentacion Debugging.gslides', '.ipynb', 'Untitled7.ipynb', 'deromob_Template_SystemsFest2022.pptx', 'Fase4.docx', 'Helman andres merchan quevedo.pdf', 'Carta de compromiso_2023-2.gdoc', 'Carta de compromiso_2023-2.docx', 'Untitled8.ipynb', 'Documento sin título.gdoc', 'DISPRO LISTO', '2024-1 UIS', 'Movimiento (1).jpeg', 'Movimiento.jpeg', 'Grupo6-PresentacionUML-DiagramaDeClaes.pptx', 'Sitio web sin título (1).gsite', 'Sitio web sin título.gsite', 'Hoja de cálculo sin título.gsheet', '21 andres marchan', 'Professional and academic activities.gdoc', '2. Análisis del estudio técnico del proyecto. 2.1....gsheet', 'Untitled9.ipynb', 'Tabla 1. Resumen del proyectoNombre del proyectoR....gsheet', 'Tabla 2. Roles en la actividadRolFunciónnombre de....gsheet', 'Tabla 3. CronogramaActividadResponsableFecha lími....gsheet', 'Untitled10.ipynb', 'Solicitud.docx', 'QUIZ.gdoc', 'Reporte1.docx', 'Proyecto analisis ', 'ProjReport1_Helman_Merchan.gdoc', 'Colab Notebooks', 'Pendiente UIS 2024-1.gdoc', 'Untitled12.ipynb', 'Unveiling_Correct_Event_Sequences_in_Complex_Systems__A_V_Net_Simulation.docx', 'Tu pasabordo.pdf', 'Untitled11.ipynb', 'Gerencia 25 de junio 24.gdoc', 'Informe Exposicion.gdoc', 'Informe_3_Final_C2.docx', 'Cuarta Entrega Gerencia.gdoc', 'Parcial Final PS.gdoc', 'Horario 2022-1.gsheet', 'FINAL UIS 2024-2.gdoc', 'Quiz.gdoc', 'AI-2', 'Trabajo de grado ', 'modelo_punto3.h5']\n"
          ]
        }
      ]
    },
    {
      "cell_type": "code",
      "source": [
        "# Guardamos las predicciones hechas por el modelo\n",
        "\n",
        "y_pred_prob = model.predict(X_test)\n",
        "\n",
        "# Convertir las probabilidades a etiquetas\n",
        "y_pred_labels = (y_pred_prob > 0.5).astype(int)  # Esto es para clasificación binaria\n"
      ],
      "metadata": {
        "id": "HQYApF3kMq6q",
        "outputId": "2eaf14f3-fd8a-4f3c-eab8-bb9c2b6c9661",
        "colab": {
          "base_uri": "https://localhost:8080/"
        }
      },
      "execution_count": 54,
      "outputs": [
        {
          "output_type": "stream",
          "name": "stdout",
          "text": [
            "\u001b[1m11/11\u001b[0m \u001b[32m━━━━━━━━━━━━━━━━━━━━\u001b[0m\u001b[37m\u001b[0m \u001b[1m0s\u001b[0m 6ms/step\n"
          ]
        }
      ]
    },
    {
      "cell_type": "code",
      "source": [
        "from sklearn.metrics import precision_score, recall_score\n",
        "\n",
        "# Calcular precisión y recall\n",
        "precision = precision_score(y_test, y_pred_labels)\n",
        "recall = recall_score(y_test, y_pred_labels)\n",
        "\n",
        "print(f'Precisión: {precision:.2f}')\n",
        "print(f'Recall (Sensibilidad): {recall:.2f}')\n"
      ],
      "metadata": {
        "id": "OYsKn_cAMzyX",
        "outputId": "bbd7b6a6-f869-4a05-d01c-4f9b53161415",
        "colab": {
          "base_uri": "https://localhost:8080/"
        }
      },
      "execution_count": 55,
      "outputs": [
        {
          "output_type": "stream",
          "name": "stdout",
          "text": [
            "Precisión: 0.88\n",
            "Recall (Sensibilidad): 0.99\n"
          ]
        }
      ]
    },
    {
      "cell_type": "code",
      "source": [
        "from sklearn.metrics import confusion_matrix, ConfusionMatrixDisplay\n",
        "\n",
        "#Se obtiene la matriz de confusión\n",
        "cm = confusion_matrix(y_test, y_pred_labels)\n",
        "\n",
        "\n",
        "disp = ConfusionMatrixDisplay(confusion_matrix=cm)\n",
        "disp.plot(cmap='Blues')\n"
      ],
      "metadata": {
        "id": "9h_EnBM1M636",
        "outputId": "2e990eb1-0057-4f77-e051-e75afeeb2d12",
        "colab": {
          "base_uri": "https://localhost:8080/",
          "height": 466
        }
      },
      "execution_count": 57,
      "outputs": [
        {
          "output_type": "execute_result",
          "data": {
            "text/plain": [
              "<sklearn.metrics._plot.confusion_matrix.ConfusionMatrixDisplay at 0x7dfdaf4caf50>"
            ]
          },
          "metadata": {},
          "execution_count": 57
        },
        {
          "output_type": "display_data",
          "data": {
            "text/plain": [
              "<Figure size 640x480 with 2 Axes>"
            ],
            "image/png": "[encoded data removed]"
          },
          "metadata": {}
        }
      ]
    },
    {
      "cell_type": "markdown",
      "metadata": {
        "id": "Kfb7-P_Bv_Oh"
      },
      "source": [
        "## **ENTREGA**\n",
        "\n",
        "Agrega tu código como prefijo en el nombre del notebook y sigue `Archivo (File) > Descargar (Download) > Descargar .ipynb (Download .ipynb)`. Tendrás tu notebook listo para adjuntarlo en un correo a luis.guayacan@saber.uis.edu.co. ¡Mucha suerte!\n",
        "\n",
        "**IMPORTANTE:** El asunto del correo DEBE SER 'Parcial 1 - IA2 - XXXXX', donde XXXXX corresponde al código de estudiante.\n",
        "\n",
        "**IMPORTANTE:** El correo debe contener:\n",
        "- Informe de resultados\n",
        "- Notebook\n",
        "- los 3 modelos en formato '.h5'\n"
      ]
    },
    {
      "cell_type": "markdown",
      "metadata": {
        "id": "CgRVCRCHwIEu"
      },
      "source": [
        "![image.png](data:image/png;base64,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)"
      ]
    }
  ]
}